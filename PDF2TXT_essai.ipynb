{
  "nbformat": 4,
  "nbformat_minor": 0,
  "metadata": {
    "colab": {
      "name": "PDF2TXT_essai.ipynb",
      "provenance": [],
      "collapsed_sections": [],
      "authorship_tag": "ABX9TyMMcX53dgbxQZ1Dt6KhGcms",
      "include_colab_link": true
    },
    "kernelspec": {
      "name": "python3",
      "display_name": "Python 3"
    },
    "language_info": {
      "name": "python"
    }
  },
  "cells": [
    {
      "cell_type": "markdown",
      "metadata": {
        "id": "view-in-github",
        "colab_type": "text"
      },
      "source": [
        "<a href=\"https://colab.research.google.com/github/Bayrem-ben/colab.github.io/blob/main/PDF2TXT_essai.ipynb\" target=\"_parent\"><img src=\"https://colab.research.google.com/assets/colab-badge.svg\" alt=\"Open In Colab\"/></a>"
      ]
    },
    {
      "cell_type": "code",
      "metadata": {
        "id": "woij8ds34QAV",
        "colab": {
          "base_uri": "https://localhost:8080/"
        },
        "outputId": "a003c362-ae6f-4056-8301-38b6487301b7"
      },
      "source": [
        "from google.colab import drive\n",
        "drive.mount(\"/content/drive\")"
      ],
      "execution_count": 2,
      "outputs": [
        {
          "output_type": "stream",
          "name": "stdout",
          "text": [
            "Drive already mounted at /content/drive; to attempt to forcibly remount, call drive.mount(\"/content/drive\", force_remount=True).\n"
          ]
        }
      ]
    },
    {
      "cell_type": "code",
      "metadata": {
        "id": "eFueKH1v4QyS"
      },
      "source": [
        "import cv2\n",
        "import imutils\n",
        "import os\n",
        "import numpy as np\n",
        "import pandas as pd\n",
        "import matplotlib.pyplot as plt\n",
        "from PIL import Image\n",
        "from skimage import io\n",
        "\n",
        "import tensorflow as tf\n",
        "from tensorflow import keras\n",
        "from tensorflow.keras import layers\n",
        "from tensorflow.keras.models import Sequential\n",
        "from tensorflow.keras.layers import Dense, Conv2D, Flatten, Dropout, MaxPooling2D\n",
        "from tensorflow.keras.preprocessing.image import ImageDataGenerator\n",
        "\n",
        "from google.colab.patches import cv2_imshow"
      ],
      "execution_count": 3,
      "outputs": []
    },
    {
      "cell_type": "code",
      "metadata": {
        "id": "lAxtpdqP4b0V"
      },
      "source": [
        "cha3b = os.path.join('/content/drive/My Drive/','cha3b.pdf')\n",
        "elhayatalarabiya = os.path.join('/content/drive/My Drive/', 'elhayatalarabiya.pdf')\n",
        "assabah = os.path.join('/content/drive/My Drive/', 'assabah.pdf')"
      ],
      "execution_count": 4,
      "outputs": []
    },
    {
      "cell_type": "code",
      "metadata": {
        "colab": {
          "base_uri": "https://localhost:8080/"
        },
        "id": "k-4N8f4Olq0e",
        "outputId": "ca761d17-99f7-4f29-d07d-674bfc1f9732"
      },
      "source": [
        "print(assabah)"
      ],
      "execution_count": 5,
      "outputs": [
        {
          "output_type": "stream",
          "name": "stdout",
          "text": [
            "/content/drive/My Drive/assabah.pdf\n"
          ]
        }
      ]
    },
    {
      "cell_type": "markdown",
      "metadata": {
        "id": "9AEqF9YWxCn_"
      },
      "source": [
        "**SELECT_ARTICLE**"
      ]
    },
    {
      "cell_type": "code",
      "metadata": {
        "id": "dE1DZovDLU3X",
        "colab": {
          "base_uri": "https://localhost:8080/"
        },
        "outputId": "ec5ab7f6-5fbc-4292-c0a7-85e5f3968589"
      },
      "source": [
        "!pip install PyPDF2"
      ],
      "execution_count": 48,
      "outputs": [
        {
          "output_type": "stream",
          "name": "stdout",
          "text": [
            "Requirement already satisfied: PyPDF2 in /usr/local/lib/python3.7/dist-packages (1.26.0)\n"
          ]
        }
      ]
    },
    {
      "cell_type": "code",
      "metadata": {
        "id": "yYo7LlHdVkeS"
      },
      "source": [
        "# importing required modules \n",
        "import PyPDF2\n",
        "\n",
        "\n",
        "# creating a pdf file object \n",
        "pdfFileObj = open('/content/drive/My Drive/assabah.pdf', 'rb')\n",
        "    \n",
        "# creating a pdf reader object \n",
        "pdfReader = PyPDF2.PdfFileReader(pdfFileObj) \n",
        "    \n",
        "# printing number of pages in pdf file \n",
        "print(pdfReader.numPages) \n",
        "    \n",
        "# creating a page object \n",
        "pageObj = pdfReader.getPage(0) \n",
        "    \n",
        "# extracting text from page \n",
        "print(pageObj.extractText()) \n",
        "    \n",
        "# closing the pdf file object \n",
        "pdfFileObj.close() "
      ],
      "execution_count": null,
      "outputs": []
    },
    {
      "cell_type": "markdown",
      "metadata": {
        "id": "vhz5ApZS5ISS"
      },
      "source": [
        "**###########**"
      ]
    },
    {
      "cell_type": "markdown",
      "metadata": {
        "id": "YUlkDNIfTwhx"
      },
      "source": [
        "/content/drive/My Drive/assabah.pdf\n",
        "\n",
        "\n",
        "\n",
        "\n",
        "/content/drive/MyDrive/ImagesFromPDF/0012.jpg"
      ]
    },
    {
      "cell_type": "code",
      "metadata": {
        "id": "syjyxLFMsJrK"
      },
      "source": [
        "!pip install tabula-py"
      ],
      "execution_count": null,
      "outputs": []
    },
    {
      "cell_type": "code",
      "metadata": {
        "id": "ODNCNQAJgnuI"
      },
      "source": [
        "!pip install camelot-py[cv]\n",
        "!apt install ghostscript python3-tk\n",
        "from ctypes.util import find_library\n",
        "find_library(\"gs\")\n",
        "import tkinter\n",
        "import camelot"
      ],
      "execution_count": null,
      "outputs": []
    },
    {
      "cell_type": "code",
      "metadata": {
        "id": "TisDVB7MAb03"
      },
      "source": [
        "import tabula \n",
        "import pandas as pd\n",
        "import re\n",
        "\n",
        "file = '/content/drive/My Drive/assabah.pdf'\n",
        "data = tabula.read_pdf(file, pages = \"all\") #, multiple_tables = True)\n",
        "\n",
        "\"\"\"\n",
        "df= tb.read_pdf(file, pages = '1', area = (0, 0, 1000, 1000), columns = [200, 265, 300, 320], pandas_options={'header': None}, stream=True)[0]\n",
        "df['border'] = df.apply(lambda x: 1 if re.findall('^[A-Z].*[a-z]$', str(x[0])) else 0, axis = 1)\n",
        "df['row'] = df['border'].transform('cumsum')\n",
        "# reshape left section\n",
        "employee = df[[0, 'row']]\n",
        "employee = employee[employee[0].notnull()]\n",
        "employee['index'] = employee.groupby('row').cumcount()+1\n",
        "employee = employee.pivot(index = ['row'], columns = ['index'], values = 0).reset_index()\n",
        "employee = employee.rename(columns = {1: 'employee_name', 2: 'net_amount', 3: 'pay_date', 4: 'pay_period'})\n",
        "employee['net_amount'] = employee.apply(lambda x: x['net_amount'].replace('Net', '').strip(), axis = 1)\n",
        "# reshape right section\n",
        "payment = df[[1, 2, 3, 4, 'row']]\n",
        "payment = payment[payment[1].notnull()]\n",
        "payment = payment[payment['row']!=0]\n",
        "payment = payment.pivot(index = ['row'], columns = 1, values = [2, 3, 4]).reset_index()\n",
        "payment.columns = [str(col[0])+col[1] for col in payment.columns.values]\n",
        "for i in ['Regular', 'OT']:\n",
        "    payment = payment.rename(columns = {f'2{i}': f'{i}_Rate', f'3{i}': f'{i}_Hours', f'4{i}': f'{i}_Amt'})\n",
        "df_clean = employee.merge(payment, on = ['row'], how = 'inner')\n",
        "\"\"\"\n",
        "print(data)"
      ],
      "execution_count": null,
      "outputs": []
    },
    {
      "cell_type": "code",
      "metadata": {
        "id": "Kl7JQiZWUyEo"
      },
      "source": [
        "data[1]"
      ],
      "execution_count": null,
      "outputs": []
    }
  ]
}