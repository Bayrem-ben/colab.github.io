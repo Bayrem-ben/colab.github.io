{
  "nbformat": 4,
  "nbformat_minor": 0,
  "metadata": {
    "colab": {
      "name": "Scrapping.ipynb",
      "provenance": [],
      "collapsed_sections": [],
      "authorship_tag": "ABX9TyO4ObTRRQ2mWXGAkSQ9fdEf",
      "include_colab_link": true
    },
    "kernelspec": {
      "name": "python3",
      "display_name": "Python 3"
    },
    "language_info": {
      "name": "python"
    }
  },
  "cells": [
    {
      "cell_type": "markdown",
      "metadata": {
        "id": "view-in-github",
        "colab_type": "text"
      },
      "source": [
        "<a href=\"https://colab.research.google.com/github/Bayrem-ben/colab.github.io/blob/main/Scrapping.ipynb\" target=\"_parent\"><img src=\"https://colab.research.google.com/assets/colab-badge.svg\" alt=\"Open In Colab\"/></a>"
      ]
    },
    {
      "cell_type": "code",
      "execution_count": null,
      "metadata": {
        "id": "B5RMSFUObSKk"
      },
      "outputs": [],
      "source": [
        ""
      ]
    },
    {
      "cell_type": "markdown",
      "source": [
        "#RSS"
      ],
      "metadata": {
        "id": "w-1NfvPlC-ZT"
      }
    },
    {
      "cell_type": "code",
      "source": [
        "!pip install feedparser\n",
        "!pip install requests-html"
      ],
      "metadata": {
        "id": "44DdzBWWhrmM"
      },
      "execution_count": null,
      "outputs": []
    },
    {
      "cell_type": "code",
      "source": [
        "import feedparser\n",
        "\n",
        "import pandas as pd\n",
        "from requests_html import HTML\n",
        "from requests_html import HTMLSession\n",
        "\n",
        "\n",
        "def get_source(url):\n",
        "    \"\"\"Return the source code for the provided URL. \n",
        "\n",
        "    Args: \n",
        "        url (string): URL of the page to scrape.\n",
        "\n",
        "    Returns:\n",
        "        response (object): HTTP response object from requests_html. \n",
        "    \"\"\"\n",
        "\n",
        "    try:\n",
        "        session = HTMLSession()\n",
        "        response = session.get(url)\n",
        "        return response\n",
        "\n",
        "    except requests.exceptions.RequestException as e:\n",
        "        print(e)\n",
        "\n",
        "\n",
        "def get_feed(url):\n",
        "    \"\"\"Return a Pandas dataframe containing the RSS feed contents.\n",
        "\n",
        "    Args: \n",
        "        url (string): URL of the RSS feed to read.\n",
        "\n",
        "    Returns:\n",
        "        df (dataframe): Pandas dataframe containing the RSS feed contents.\n",
        "    \"\"\"\n",
        "    \n",
        "    response = get_source(url)\n",
        "    \n",
        "    df = pd.DataFrame(columns = ['title', 'pubDate', 'guid', 'description'])\n",
        "\n",
        "    with response as r:\n",
        "        items = r.html.find(\"item\", first=False)\n",
        "\n",
        "        for item in items:        \n",
        "\n",
        "            title = item.find('title', first=True).text\n",
        "            pubDate = item.find('pubDate', first=True).text\n",
        "            guid = item.find('guid', first=True).text\n",
        "            description = item.find('description', first=True).text\n",
        "\n",
        "            row = {'title': title, 'pubDate': pubDate, 'guid': guid, 'description': description}\n",
        "            df = df.append(row, ignore_index=True)\n",
        "\n",
        "    return df\n",
        "\n",
        "url = \"https://www.mosaiquefm.net/fr/rss\"\n",
        "df = get_feed(url)\n",
        "df.head()"
      ],
      "metadata": {
        "colab": {
          "base_uri": "https://localhost:8080/",
          "height": 250
        },
        "id": "GY6IUmhVbVJq",
        "outputId": "35b4b331-cc7d-4dc7-bc60-2cdd24fb6e71"
      },
      "execution_count": 2,
      "outputs": [
        {
          "output_type": "execute_result",
          "data": {
            "text/html": [
              "\n",
              "  <div id=\"df-1ae913d3-6fa2-445d-b38d-5edea5fe48a2\">\n",
              "    <div class=\"colab-df-container\">\n",
              "      <div>\n",
              "<style scoped>\n",
              "    .dataframe tbody tr th:only-of-type {\n",
              "        vertical-align: middle;\n",
              "    }\n",
              "\n",
              "    .dataframe tbody tr th {\n",
              "        vertical-align: top;\n",
              "    }\n",
              "\n",
              "    .dataframe thead th {\n",
              "        text-align: right;\n",
              "    }\n",
              "</style>\n",
              "<table border=\"1\" class=\"dataframe\">\n",
              "  <thead>\n",
              "    <tr style=\"text-align: right;\">\n",
              "      <th></th>\n",
              "      <th>title</th>\n",
              "      <th>pubDate</th>\n",
              "      <th>guid</th>\n",
              "      <th>description</th>\n",
              "    </tr>\n",
              "  </thead>\n",
              "  <tbody>\n",
              "    <tr>\n",
              "      <th>0</th>\n",
              "      <td>Nabeul : Fermeture de 15 espaces anarchiques p...</td>\n",
              "      <td>Mon, 21 Feb 2022 09:04:00 GMT</td>\n",
              "      <td>https://www.mosaiquefm.net/fr/actualite-region...</td>\n",
              "      <td>Le délégué régional des affaires de la femme, ...</td>\n",
              "    </tr>\n",
              "    <tr>\n",
              "      <th>1</th>\n",
              "      <td>Covid-19: Le taux de couverture en troisième d...</td>\n",
              "      <td>Mon, 21 Feb 2022 08:20:00 GMT</td>\n",
              "      <td>https://www.mosaiquefm.net/fr/actualite-nation...</td>\n",
              "      <td>Le docteur Amine Slim, membre du comite scient...</td>\n",
              "    </tr>\n",
              "    <tr>\n",
              "      <th>2</th>\n",
              "      <td>Les agents municipaux en grève</td>\n",
              "      <td>Mon, 21 Feb 2022 08:19:00 GMT</td>\n",
              "      <td>https://www.mosaiquefm.net/fr/actualite-nation...</td>\n",
              "      <td>Les agents municipaux ont entamé, ce lundi 21 ...</td>\n",
              "    </tr>\n",
              "    <tr>\n",
              "      <th>3</th>\n",
              "      <td>17 décès et 920 nouveaux cas de Coronavirus</td>\n",
              "      <td>Mon, 21 Feb 2022 08:11:00 GMT</td>\n",
              "      <td>https://www.mosaiquefm.net/fr/actualite-nation...</td>\n",
              "      <td>17 décès et 920 nouveaux cas de coronavirus on...</td>\n",
              "    </tr>\n",
              "    <tr>\n",
              "      <th>4</th>\n",
              "      <td>Le crash d’un F-5 iranien fait trois morts</td>\n",
              "      <td>Mon, 21 Feb 2022 07:41:00 GMT</td>\n",
              "      <td>https://www.mosaiquefm.net/fr/actualites-inter...</td>\n",
              "      <td>Un avion de combat de l'armée iranienne s'est ...</td>\n",
              "    </tr>\n",
              "  </tbody>\n",
              "</table>\n",
              "</div>\n",
              "      <button class=\"colab-df-convert\" onclick=\"convertToInteractive('df-1ae913d3-6fa2-445d-b38d-5edea5fe48a2')\"\n",
              "              title=\"Convert this dataframe to an interactive table.\"\n",
              "              style=\"display:none;\">\n",
              "        \n",
              "  <svg xmlns=\"http://www.w3.org/2000/svg\" height=\"24px\"viewBox=\"0 0 24 24\"\n",
              "       width=\"24px\">\n",
              "    <path d=\"M0 0h24v24H0V0z\" fill=\"none\"/>\n",
              "    <path d=\"M18.56 5.44l.94 2.06.94-2.06 2.06-.94-2.06-.94-.94-2.06-.94 2.06-2.06.94zm-11 1L8.5 8.5l.94-2.06 2.06-.94-2.06-.94L8.5 2.5l-.94 2.06-2.06.94zm10 10l.94 2.06.94-2.06 2.06-.94-2.06-.94-.94-2.06-.94 2.06-2.06.94z\"/><path d=\"M17.41 7.96l-1.37-1.37c-.4-.4-.92-.59-1.43-.59-.52 0-1.04.2-1.43.59L10.3 9.45l-7.72 7.72c-.78.78-.78 2.05 0 2.83L4 21.41c.39.39.9.59 1.41.59.51 0 1.02-.2 1.41-.59l7.78-7.78 2.81-2.81c.8-.78.8-2.07 0-2.86zM5.41 20L4 18.59l7.72-7.72 1.47 1.35L5.41 20z\"/>\n",
              "  </svg>\n",
              "      </button>\n",
              "      \n",
              "  <style>\n",
              "    .colab-df-container {\n",
              "      display:flex;\n",
              "      flex-wrap:wrap;\n",
              "      gap: 12px;\n",
              "    }\n",
              "\n",
              "    .colab-df-convert {\n",
              "      background-color: #E8F0FE;\n",
              "      border: none;\n",
              "      border-radius: 50%;\n",
              "      cursor: pointer;\n",
              "      display: none;\n",
              "      fill: #1967D2;\n",
              "      height: 32px;\n",
              "      padding: 0 0 0 0;\n",
              "      width: 32px;\n",
              "    }\n",
              "\n",
              "    .colab-df-convert:hover {\n",
              "      background-color: #E2EBFA;\n",
              "      box-shadow: 0px 1px 2px rgba(60, 64, 67, 0.3), 0px 1px 3px 1px rgba(60, 64, 67, 0.15);\n",
              "      fill: #174EA6;\n",
              "    }\n",
              "\n",
              "    [theme=dark] .colab-df-convert {\n",
              "      background-color: #3B4455;\n",
              "      fill: #D2E3FC;\n",
              "    }\n",
              "\n",
              "    [theme=dark] .colab-df-convert:hover {\n",
              "      background-color: #434B5C;\n",
              "      box-shadow: 0px 1px 3px 1px rgba(0, 0, 0, 0.15);\n",
              "      filter: drop-shadow(0px 1px 2px rgba(0, 0, 0, 0.3));\n",
              "      fill: #FFFFFF;\n",
              "    }\n",
              "  </style>\n",
              "\n",
              "      <script>\n",
              "        const buttonEl =\n",
              "          document.querySelector('#df-1ae913d3-6fa2-445d-b38d-5edea5fe48a2 button.colab-df-convert');\n",
              "        buttonEl.style.display =\n",
              "          google.colab.kernel.accessAllowed ? 'block' : 'none';\n",
              "\n",
              "        async function convertToInteractive(key) {\n",
              "          const element = document.querySelector('#df-1ae913d3-6fa2-445d-b38d-5edea5fe48a2');\n",
              "          const dataTable =\n",
              "            await google.colab.kernel.invokeFunction('convertToInteractive',\n",
              "                                                     [key], {});\n",
              "          if (!dataTable) return;\n",
              "\n",
              "          const docLinkHtml = 'Like what you see? Visit the ' +\n",
              "            '<a target=\"_blank\" href=https://colab.research.google.com/notebooks/data_table.ipynb>data table notebook</a>'\n",
              "            + ' to learn more about interactive tables.';\n",
              "          element.innerHTML = '';\n",
              "          dataTable['output_type'] = 'display_data';\n",
              "          await google.colab.output.renderOutput(dataTable, element);\n",
              "          const docLink = document.createElement('div');\n",
              "          docLink.innerHTML = docLinkHtml;\n",
              "          element.appendChild(docLink);\n",
              "        }\n",
              "      </script>\n",
              "    </div>\n",
              "  </div>\n",
              "  "
            ],
            "text/plain": [
              "                                               title  ...                                        description\n",
              "0  Nabeul : Fermeture de 15 espaces anarchiques p...  ...  Le délégué régional des affaires de la femme, ...\n",
              "1  Covid-19: Le taux de couverture en troisième d...  ...  Le docteur Amine Slim, membre du comite scient...\n",
              "2                     Les agents municipaux en grève  ...  Les agents municipaux ont entamé, ce lundi 21 ...\n",
              "3        17 décès et 920 nouveaux cas de Coronavirus  ...  17 décès et 920 nouveaux cas de coronavirus on...\n",
              "4         Le crash d’un F-5 iranien fait trois morts  ...  Un avion de combat de l'armée iranienne s'est ...\n",
              "\n",
              "[5 rows x 4 columns]"
            ]
          },
          "metadata": {},
          "execution_count": 2
        }
      ]
    },
    {
      "cell_type": "markdown",
      "source": [
        "# read multi page"
      ],
      "metadata": {
        "id": "ouJsuHp1DINr"
      }
    },
    {
      "cell_type": "code",
      "source": [
        "import requests\n",
        "from bs4 import BeautifulSoup\n",
        "import pandas as pd\n",
        "import re\n",
        "\n",
        "catg_name = 'Economie'\n",
        "cat = 5\n",
        "\n",
        "for i in range(1000):\n",
        "page = requests.get('https://www.mosaiquefm.net/fr/actualites/actualite-economie-tunisie/'+cat+'/'+i) # Getting page HTML through request\n",
        "#page = requests.get('https://www.mosaiquefm.net/fr/actualite-economie-tunisie/1013507/emprunt-national-obligataire-le-decret-publie')\n",
        "soup = BeautifulSoup(page.content, 'html.parser') # Parsing content using beautifulsoup\n",
        "soup"
      ],
      "metadata": {
        "id": "nAJKSCE4DHu0"
      },
      "execution_count": null,
      "outputs": []
    },
    {
      "cell_type": "code",
      "source": [
        "list_t =[]\n",
        "for a in soup.findAll('div', attrs={'class':'col-xl-3 col-md-4 col-6 item'}):\n",
        "\n",
        "  url_link = re.search(\"(?P<url>https?://[^\\s]+)\", str(a) ).group(\"url\")\n",
        "  \n",
        "  list_t.append(url_link)\n",
        "\n",
        "list_t  \n",
        "#text = ' '.join(list_t[:-2])"
      ],
      "metadata": {
        "colab": {
          "base_uri": "https://localhost:8080/"
        },
        "id": "YKjPqr4LDXUz",
        "outputId": "fda582aa-da7e-47cf-9ed0-f1f9922a7065"
      },
      "execution_count": 94,
      "outputs": [
        {
          "output_type": "execute_result",
          "data": {
            "text/plain": [
              "['https://www.mosaiquefm.net/fr/actualite-economie-tunisie/1018049/le-champ-de-nawara-fournira-50-des-besoins-en-gaz-de-la-tunisie\">',\n",
              " 'https://www.mosaiquefm.net/fr/actualite-economie-tunisie/1017953/tunisie-usa-35-millions-de-dollars-au-profit-des-pme-tunisiennes\">',\n",
              " 'https://www.mosaiquefm.net/fr/actualite-economie-tunisie/1017014/la-banque-mondiale-versera-bientot-des-financements-a-la-tunisie\">',\n",
              " 'https://www.mosaiquefm.net/fr/actualite-economie-tunisie/1015310/le-gouvernement-devoile-un-plan-de-reforme-pour-la-periode-2022-2024\">',\n",
              " 'https://www.mosaiquefm.net/fr/actualite-economie-tunisie/1014965/tunisie-fmi-reprise-des-negociations-le-14-fevrier\">',\n",
              " 'https://www.mosaiquefm.net/fr/actualite-economie-tunisie/1014761/rabhi-pas-de-suppression-des-subventions-sur-les-produits-de-base\">',\n",
              " 'https://www.mosaiquefm.net/fr/actualite-economie-tunisie/1013507/emprunt-national-obligataire-le-decret-publie\">',\n",
              " 'https://www.mosaiquefm.net/fr/actualite-economie-tunisie/1013243/baisse-de-0-5-du-flux-des-investissements-internationaux-en-2021\">',\n",
              " 'https://www.mosaiquefm.net/fr/actualite-economie-tunisie/1013234/abassi-appelle-a-la-revision-de-la-mediation-bancaire\">',\n",
              " 'https://www.mosaiquefm.net/fr/actualite-economie-tunisie/1012898/budget-de-l-etat-la-bct-inquiete-quant-au-financement-exterieur\">',\n",
              " 'https://www.mosaiquefm.net/fr/actualite-economie-tunisie/1012676/la-bct-lance-un-nouveau-systeme-de-reglement-brut-elyssa-rtgs\">',\n",
              " 'https://www.mosaiquefm.net/fr/actualite-economie-tunisie/1012316/transferts-d-argent-vers-le-tresor-public-precisions-de-la-poste\">',\n",
              " 'https://www.mosaiquefm.net/fr/actualite-economie-tunisie/1011545/petrole-l-opep-face-a-des-prix-record\">',\n",
              " 'https://www.mosaiquefm.net/fr/actualite-economie-tunisie/1010435/salaires-du-mois-de-janvier-le-ministere-des-finances-dement\">',\n",
              " 'https://www.mosaiquefm.net/fr/actualite-economie-tunisie/1010423/hausse-de-12-de-l-encours-de-la-dette-publique\">',\n",
              " 'https://www.mosaiquefm.net/fr/actualite-economie-tunisie/1010375/salaires-janvier-2022-la-bct-aurait-imprime-des-billets\">',\n",
              " 'https://www.mosaiquefm.net/fr/actualite-economie-tunisie/1010342/allegement-du-deficit-budgetaire-de-15\">',\n",
              " 'https://www.mosaiquefm.net/fr/actualite-economie-tunisie/1010333/amnistie-fiscale-2022-les-conditions-d-application\">',\n",
              " 'https://www.mosaiquefm.net/fr/actualite-economie-tunisie/1010321/saidane-hausse-des-prix-inflation-et-planche-a-billets\">',\n",
              " 'https://www.mosaiquefm.net/fr/actualite-economie-tunisie/1010018/moody-s-la-tunisie-doit-avoir-plus-de-visibilite\">',\n",
              " 'https://www.mosaiquefm.net/fr/actualite-economie-tunisie/1009709/les-accords-commerciaux-avec-la-turquie-en-cours-de-revision\">',\n",
              " 'https://www.mosaiquefm.net/fr/actualite-economie-tunisie/1009559/la-banque-mondiale-prevoit-un-ralentissement-de-l-economie-en-tunisie\">']"
            ]
          },
          "metadata": {},
          "execution_count": 94
        }
      ]
    },
    {
      "cell_type": "code",
      "source": [
        "list_t "
      ],
      "metadata": {
        "colab": {
          "base_uri": "https://localhost:8080/"
        },
        "id": "80oblXlxLAUe",
        "outputId": "959ee134-0d80-4fad-b2cf-1c989e332096"
      },
      "execution_count": 83,
      "outputs": [
        {
          "output_type": "execute_result",
          "data": {
            "text/plain": [
              "[<div class=\"d-flex item\" data-vr-contentbox=\"Position 1\" data-vr-contentbox-url=\"https://www.mosaiquefm.net/fr/actualite-national-tunisie/1019000/la-tunisie-produit-ses-propres-vaccins-anti-covid\">\n",
              " <div class=\"time\">12:31</div>\n",
              " <div class=\"desc\">\n",
              " <div class=\"cat\"><a href=\"/fr/actualites/actualite-national-tunisie/1\" title=\"National\">National</a></div>\n",
              " <h3><a href=\"/fr/actualite-national-tunisie/1019000/la-tunisie-produit-ses-propres-vaccins-anti-covid\" title=\"La Tunisie produit ses propres vaccins anti-covid\">La Tunisie produit ses propres vaccins anti-covid ...</a></h3>\n",
              " </div>\n",
              " </div>,\n",
              " <div class=\"d-flex item\" data-vr-contentbox=\"Position 2\" data-vr-contentbox-url=\"https://www.mosaiquefm.net/fr/actualites-internationales/1018991/kuwait-airways-va-acheter-31-nouveaux-appareils-airbus\">\n",
              " <div class=\"time\">12:30</div>\n",
              " <div class=\"desc\">\n",
              " <div class=\"cat\"><a href=\"/fr/actualites/actualites-internationales/3\" title=\"International\">International</a></div>\n",
              " <h3><a href=\"/fr/actualites-internationales/1018991/kuwait-airways-va-acheter-31-nouveaux-appareils-airbus\" title=\"Kuwait Airways va acheter 31 nouveaux appareils Airbus\">Kuwait Airways va acheter 31 nouveaux appareils ...</a></h3>\n",
              " </div>\n",
              " </div>,\n",
              " <div class=\"d-flex item\" data-vr-contentbox=\"Position 3\" data-vr-contentbox-url=\"https://www.mosaiquefm.net/fr/actualite-politique-tunisie/1018979/kourchid-des-deputes-ministres-et-journalistes-fiches-s17\">\n",
              " <div class=\"time\">11:50</div>\n",
              " <div class=\"desc\">\n",
              " <div class=\"cat\"><a href=\"/fr/actualites/actualite-politique-tunisie/4\" title=\"Politique\">Politique</a></div>\n",
              " <h3><a href=\"/fr/actualite-politique-tunisie/1018979/kourchid-des-deputes-ministres-et-journalistes-fiches-s17\" title=\"Kourchid : Des députés, ministres et journalistes fichés S17\">Kourchid : Des députés, ministres et ...</a></h3>\n",
              " </div>\n",
              " </div>,\n",
              " <div class=\"d-flex item\" data-vr-contentbox=\"Position 4\" data-vr-contentbox-url=\"https://www.mosaiquefm.net/fr/actualite-national-tunisie/1018976/une-collegienne-renvoyee-pour-port-de-robe\">\n",
              " <div class=\"time\">11:39</div>\n",
              " <div class=\"desc\">\n",
              " <div class=\"cat\"><a href=\"/fr/actualites/actualite-national-tunisie/1\" title=\"National\">National</a></div>\n",
              " <h3><a href=\"/fr/actualite-national-tunisie/1018976/une-collegienne-renvoyee-pour-port-de-robe\" title=\"Une collégienne renvoyée pour ''port  de robe...''!!!\">Une collégienne renvoyée pour ''port ...</a></h3>\n",
              " </div>\n",
              " </div>,\n",
              " <div class=\"d-flex item\" data-vr-contentbox=\"Position 5\" data-vr-contentbox-url=\"https://www.mosaiquefm.net/fr/actualite-national-tunisie/1018961/les-agents-municipaux-menacent-d-escalade\">\n",
              " <div class=\"time\">11:18</div>\n",
              " <div class=\"desc\">\n",
              " <div class=\"cat\"><a href=\"/fr/actualites/actualite-national-tunisie/1\" title=\"National\">National</a></div>\n",
              " <h3><a href=\"/fr/actualite-national-tunisie/1018961/les-agents-municipaux-menacent-d-escalade\" title=\"Les agents municipaux menacent d'escalade \">Les agents municipaux menacent d'escalade ...</a></h3>\n",
              " </div>\n",
              " </div>,\n",
              " <div class=\"d-flex item\" data-vr-contentbox=\"Position 6\" data-vr-contentbox-url=\"https://www.mosaiquefm.net/fr/actualite-national-tunisie/1018952/sit-in-ouvert-de-proprietaires-de-boulangeries-modernes\">\n",
              " <div class=\"time\">11:05</div>\n",
              " <div class=\"desc\">\n",
              " <div class=\"cat\"><a href=\"/fr/actualites/actualite-national-tunisie/1\" title=\"National\">National</a></div>\n",
              " <h3><a href=\"/fr/actualite-national-tunisie/1018952/sit-in-ouvert-de-proprietaires-de-boulangeries-modernes\" title=\"Sit-in ouvert des propriétaires de boulangeries modernes\">Sit-in ouvert des propriétaires de boulangeries ...</a></h3>\n",
              " </div>\n",
              " </div>,\n",
              " <div class=\"d-flex item\" data-vr-contentbox=\"Position 7\" data-vr-contentbox-url=\"https://www.mosaiquefm.net/fr/actualite-national-tunisie/1018949/covid-plus-de-12-millions-de-doses-administrees-depuis-mars-2021\">\n",
              " <div class=\"time\">10:57</div>\n",
              " <div class=\"desc\">\n",
              " <div class=\"cat\"><a href=\"/fr/actualites/actualite-national-tunisie/1\" title=\"National\">National</a></div>\n",
              " <h3><a href=\"/fr/actualite-national-tunisie/1018949/covid-plus-de-12-millions-de-doses-administrees-depuis-mars-2021\" title=\"Covid : Plus de 12 millions de doses administrées depuis mars 2021\">Covid : Plus de 12 millions de doses ...</a></h3>\n",
              " </div>\n",
              " </div>,\n",
              " <div class=\"d-flex item\" data-vr-contentbox=\"Position 8\" data-vr-contentbox-url=\"https://www.mosaiquefm.net/fr/actualite-midi-show/1018931/politique-economie-et-diplomatie-sous-la-loupe-de-midi-show\">\n",
              " <div class=\"time\">10:06</div>\n",
              " <div class=\"desc\">\n",
              " <div class=\"cat\"><a href=\"/fr/actualites/actualite-midi-show/13\" title=\"Midi Show\">Midi Show</a></div>\n",
              " <h3><a href=\"/fr/actualite-midi-show/1018931/politique-economie-et-diplomatie-sous-la-loupe-de-midi-show\" title=\"Politique, économie et diplomatie sous la loupe de Midi Show  \">Politique, économie et diplomatie sous la loupe ...</a></h3>\n",
              " </div>\n",
              " </div>,\n",
              " <div class=\"d-flex item\" data-vr-contentbox=\"Position 9\" data-vr-contentbox-url=\"https://www.mosaiquefm.net/fr/actualite-regional-tunisie/1018925/nabeul-fermeture-de-15-espaces-anarchiques-pour-enfants\">\n",
              " <div class=\"time\">10:04</div>\n",
              " <div class=\"desc\">\n",
              " <div class=\"cat\"><a href=\"/fr/actualites/actualite-regional-tunisie/2\" title=\"Regional\">Regional</a></div>\n",
              " <h3><a href=\"/fr/actualite-regional-tunisie/1018925/nabeul-fermeture-de-15-espaces-anarchiques-pour-enfants\" title=\"Nabeul : Fermeture de 15 espaces anarchiques pour enfants\">Nabeul : Fermeture de 15 espaces anarchiques pour ...</a></h3>\n",
              " </div>\n",
              " </div>,\n",
              " <div class=\"d-flex item\" data-vr-contentbox=\"Position 10\" data-vr-contentbox-url=\"https://www.mosaiquefm.net/fr/actualite-national-tunisie/1018913/covid-19-le-taux-de-couverture-en-troisieme-dose-demeure-insuffisant\">\n",
              " <div class=\"time\">09:20</div>\n",
              " <div class=\"desc\">\n",
              " <div class=\"cat\"><a href=\"/fr/actualites/actualite-national-tunisie/1\" title=\"National\">National</a></div>\n",
              " <h3><a href=\"/fr/actualite-national-tunisie/1018913/covid-19-le-taux-de-couverture-en-troisieme-dose-demeure-insuffisant\" title=\"Covid-19: Le taux de couverture en troisième dose demeure insuffisant\">Covid-19: Le taux de couverture en troisième ...</a></h3>\n",
              " </div>\n",
              " </div>,\n",
              " <div class=\"d-flex item\" data-vr-contentbox=\"Position 11\" data-vr-contentbox-url=\"https://www.mosaiquefm.net/fr/actualite-national-tunisie/1018910/les-agents-municipaux-en-greve\">\n",
              " <div class=\"time\">09:19</div>\n",
              " <div class=\"desc\">\n",
              " <div class=\"cat\"><a href=\"/fr/actualites/actualite-national-tunisie/1\" title=\"National\">National</a></div>\n",
              " <h3><a href=\"/fr/actualite-national-tunisie/1018910/les-agents-municipaux-en-greve\" title=\"Les agents municipaux en grève\">Les agents municipaux en grève</a></h3>\n",
              " </div>\n",
              " </div>,\n",
              " <div class=\"d-flex item\" data-vr-contentbox=\"Position 12\" data-vr-contentbox-url=\"https://www.mosaiquefm.net/fr/actualite-national-tunisie/1018901/17-deces-et-920-nouveaux-cas-de-coronavirus\">\n",
              " <div class=\"time\">09:11</div>\n",
              " <div class=\"desc\">\n",
              " <div class=\"cat\"><a href=\"/fr/actualites/actualite-national-tunisie/1\" title=\"National\">National</a></div>\n",
              " <h3><a href=\"/fr/actualite-national-tunisie/1018901/17-deces-et-920-nouveaux-cas-de-coronavirus\" title=\"17 décès et 920 nouveaux cas de Coronavirus\">17 décès et 920 nouveaux cas de Coronavirus</a></h3>\n",
              " </div>\n",
              " </div>,\n",
              " <div class=\"d-flex item\" data-vr-contentbox=\"Position 13\" data-vr-contentbox-url=\"https://www.mosaiquefm.net/fr/actualites-internationales/1018898/le-crash-d-un-f-5-iranien-fait-trois-morts\">\n",
              " <div class=\"time\">08:41</div>\n",
              " <div class=\"desc\">\n",
              " <div class=\"cat\"><a href=\"/fr/actualites/actualites-internationales/3\" title=\"International\">International</a></div>\n",
              " <h3><a href=\"/fr/actualites-internationales/1018898/le-crash-d-un-f-5-iranien-fait-trois-morts\" title=\"Le crash d’un F-5 iranien fait trois morts\">Le crash d’un F-5 iranien fait trois morts</a></h3>\n",
              " </div>\n",
              " </div>,\n",
              " <div class=\"d-flex item\" data-vr-contentbox=\"Position 14\" data-vr-contentbox-url=\"https://www.mosaiquefm.net/fr/actualite-regional-tunisie/1018892/mort-d-un-nouveau-ne-a-sfax-cinq-personnes-aux-arrets\">\n",
              " <div class=\"time\">08:16</div>\n",
              " <div class=\"desc\">\n",
              " <div class=\"cat\"><a href=\"/fr/actualites/actualite-regional-tunisie/2\" title=\"Regional\">Regional</a></div>\n",
              " <h3><a href=\"/fr/actualite-regional-tunisie/1018892/mort-d-un-nouveau-ne-a-sfax-cinq-personnes-aux-arrets\" title=\"Sfax: Qui a étranglé le nouveau-né ?\">Sfax: Qui a étranglé le nouveau-né ?</a></h3>\n",
              " </div>\n",
              " </div>,\n",
              " <div class=\"d-flex item\" data-vr-contentbox=\"Position 15\" data-vr-contentbox-url=\"https://www.mosaiquefm.net/fr/actualites-internationales/1018880/crise-ukrainienne-biden-et-poutine-acceptent-un-sommet\">\n",
              " <div class=\"time\">07:16</div>\n",
              " <div class=\"desc\">\n",
              " <div class=\"cat\"><a href=\"/fr/actualites/actualites-internationales/3\" title=\"International\">International</a></div>\n",
              " <h3><a href=\"/fr/actualites-internationales/1018880/crise-ukrainienne-biden-et-poutine-acceptent-un-sommet\" title=\"Crise ukrainienne: Biden et Poutine acceptent un sommet\">Crise ukrainienne: Biden et Poutine acceptent un ...</a></h3>\n",
              " </div>\n",
              " </div>]"
            ]
          },
          "metadata": {},
          "execution_count": 83
        }
      ]
    },
    {
      "cell_type": "code",
      "source": [
        ""
      ],
      "metadata": {
        "id": "QVPirxJMDXNN"
      },
      "execution_count": null,
      "outputs": []
    },
    {
      "cell_type": "markdown",
      "source": [
        "#Web Scrapping"
      ],
      "metadata": {
        "id": "gk53E82eDAbs"
      }
    },
    {
      "cell_type": "code",
      "source": [
        "!pip install bs4"
      ],
      "metadata": {
        "id": "1PV5xL_pbVHB"
      },
      "execution_count": null,
      "outputs": []
    },
    {
      "cell_type": "code",
      "source": [
        "!pip3 install beautifulsoup4\n",
        "!pip3 install selenium"
      ],
      "metadata": {
        "id": "bOL83KPHxfyc"
      },
      "execution_count": null,
      "outputs": []
    },
    {
      "cell_type": "code",
      "source": [
        "import requests\n",
        "from bs4 import BeautifulSoup\n",
        "import pandas as pd\n",
        "\n",
        "catg_name = 'Economie'\n",
        "\n",
        "#page = requests.get('https://www.mosaiquefm.net/fr/actualites/actualite-economie-tunisie/5/1') # Getting page HTML through request\n",
        "page = requests.get('https://www.mosaiquefm.net/fr/actualite-economie-tunisie/1013507/emprunt-national-obligataire-le-decret-publie')\n",
        "soup = BeautifulSoup(page.content, 'html.parser') # Parsing content using beautifulsoup\n",
        "\n",
        "products=[]\n",
        "for a in soup.findAll('p'):\n",
        "  products.append(a.text)\n",
        "  \n",
        "text = ' '.join(products[:-2])\n",
        "\n",
        "\n",
        "df = pd.DataFrame({catg_name: text})\n",
        "df"
      ],
      "metadata": {
        "id": "FjvvDv3Iw6DE"
      },
      "execution_count": null,
      "outputs": []
    },
    {
      "cell_type": "markdown",
      "source": [
        "# ###"
      ],
      "metadata": {
        "id": "C97TwaR_DSdb"
      }
    },
    {
      "cell_type": "code",
      "source": [
        ""
      ],
      "metadata": {
        "id": "pnLRVGMrruwJ"
      },
      "execution_count": 57,
      "outputs": []
    },
    {
      "cell_type": "code",
      "source": [
        ""
      ],
      "metadata": {
        "id": "bpxwcG0RbVB3"
      },
      "execution_count": null,
      "outputs": []
    }
  ]
}