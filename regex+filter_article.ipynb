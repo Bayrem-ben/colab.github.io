{
  "nbformat": 4,
  "nbformat_minor": 0,
  "metadata": {
    "colab": {
      "name": "regex+filter_article.ipynb",
      "provenance": [],
      "collapsed_sections": []
    },
    "kernelspec": {
      "display_name": "Python 3",
      "name": "python3"
    },
    "language_info": {
      "name": "python"
    }
  },
  "cells": [
    {
      "cell_type": "code",
      "metadata": {
        "colab": {
          "base_uri": "https://localhost:8080/"
        },
        "id": "l60iWBChzPau",
        "outputId": "99930839-1d0a-429f-a1f7-a9c4e1e88024"
      },
      "source": [
        "from google.colab import drive\n",
        "drive.mount(\"/content/drive\")"
      ],
      "execution_count": 1,
      "outputs": [
        {
          "output_type": "stream",
          "name": "stdout",
          "text": [
            "Mounted at /content/drive\n"
          ]
        }
      ]
    },
    {
      "cell_type": "code",
      "metadata": {
        "id": "kveE7rO5zSTW"
      },
      "source": [
        "import cv2\n",
        "import imutils\n",
        "import os\n",
        "import numpy as np\n",
        "import pandas as pd\n",
        "import matplotlib.pyplot as plt\n",
        "import string\n",
        "import re"
      ],
      "execution_count": 2,
      "outputs": []
    },
    {
      "cell_type": "code",
      "metadata": {
        "id": "2MsZoktr12kP"
      },
      "source": [
        ""
      ],
      "execution_count": null,
      "outputs": []
    },
    {
      "cell_type": "code",
      "metadata": {
        "id": "V_BLLi59hvAp"
      },
      "source": [
        "!pip install PyPDF2"
      ],
      "execution_count": null,
      "outputs": []
    },
    {
      "cell_type": "markdown",
      "metadata": {
        "id": "0p376utKxsDe"
      },
      "source": [
        "start"
      ]
    },
    {
      "cell_type": "code",
      "metadata": {
        "id": "x9Jx-IgUjNAz"
      },
      "source": [
        "def clean_txt(text):\n",
        "  txt = re.sub(\"\\W+\", ' ', str(text)) #\\W+ \n",
        "  txt = re.sub(\"[?|$|.|!]\", '', str(txt))\n",
        "  txt = re.sub(\"صفحـة\", '', str(txt))\n",
        "  txt = re.sub(\"عدد\", '', str(txt))\n",
        "  txt = re.sub(\"إعلانات قانونية وشرعية وعدلية\", '', str(txt))\n",
        "  txt = re.sub(\"الرائد الرسمي للجمهورية التونسية\", '', str(txt))\n",
        "  txt = re.sub(\"–\", '', str(txt))\n",
        "  txt = re.sub(\"تعريف الإمضاء : رئيس البلدية\", '', str(txt))\n",
        "  txt = re.sub(\"تعريف الإمضاء رئيس البلدية\", '', str(txt))\n",
        "  txt = re.sub(\"نسخة مطابقة : الرئيس المدير العام للمطبعة الرسمية للجمهورية التونسية\", '', str(txt))\n",
        "  txt = re.sub(\"نسخة مطابقة الرئيس المدير العام للمطبعة الرسمية للجمهورية التونسية\", '', str(txt))\n",
        "  txt = re.sub(\"ر د م د\", '', str(txt))\n",
        "\n",
        "  return txt"
      ],
      "execution_count": 75,
      "outputs": []
    },
    {
      "cell_type": "code",
      "metadata": {
        "id": "4kyYxip00lwR"
      },
      "source": [
        "txts = '/content/drive/MyDrive/press/99.txt'\n",
        "with open(txts, 'r+') as f:\n",
        "    lines = f.read() #readlines  .rstrip('\\n')"
      ],
      "execution_count": 5,
      "outputs": []
    },
    {
      "cell_type": "code",
      "metadata": {
        "colab": {
          "base_uri": "https://localhost:8080/"
        },
        "id": "I7YS9D_GqRyb",
        "outputId": "caf15e45-a2ea-4e68-af5b-e5b13196b750"
      },
      "source": [
        "\n",
        "\n",
        "##############\n",
        "\n",
        "regex = \"/202[A-Z,0-9]{10}|202[A-Z,0-9]{11}|202[A-Z,0-9]{12}|202[A-Z,0-9]{13}|202[A-Z,0-9]{14}/\"\n",
        "\n",
        "xtxt = re.split(regex, str(lines))\n",
        "\n",
        "i = 0\n",
        "w1 = 0\n",
        "w2 = 0\n",
        "w3 = 0\n",
        "w4 = 0\n",
        "\n",
        "lis_commercial = []\n",
        "lis_auction = []\n",
        "lis_societe = []\n",
        "lis_annonce = []\n",
        "\n",
        "words1 = ['أصول تجارية','أصل تجاري']\n",
        "\n",
        "words2 = ['بتة','المزاد العلني','بالمزاد العلني','علان تبتيت','عقلة عقارية','رهن الإختياري','المعقول عنه','المعقول ضده']\n",
        "\n",
        "words3 = ['التصرف في شركات','إعلان للدائنين','رأس المال','شركة خفية الإسم','مصادقة على تقارير','أشركات خرى','رأس مال شركة'\n",
        "          ,'رأس مالها','حل الشركة','استدعاء للجلسة العامة العادية','ستدعاء للجلسة العامة الخارقة'\n",
        "          ,'فتح إجراءات التسوية القضائية','دائن','إعلان توزيع ','ختم أعمال الفلسة','علان توزيع أموال','إعلان للمساهمين','تعيين مجلس إدارة','طلب عروض','فلسة']\n",
        "\n",
        "words4 = ['جمعيات','جمعية','أحزاب','نقابات','نقابة','اتحاد','حزب','تكوين ودادية','انتخاب أعضاء'\n",
        "          ,'تكوين جمعية','انتخاب مكتب جديد','ضياع سند','إعــلانات للعمــوم','أضاعا','أضاع'\n",
        "          ,'اعلام للعموم','ضياع','إصلاح خطأ','تكوين نقابة ','تغيير إسم جمعية ','إستخراج رسم','حكم تقديم','يعلن ورثة المرحوم','يعلن ورثة المرحومة','رسم تملك مورثهم']\n",
        "\n",
        "mat_re1 = []\n",
        "mat_re2 = []\n",
        "\n",
        "for x in xtxt :\n",
        "  x = clean_txt(x)\n",
        "  #print('section : ', i)\n",
        "  #print(x)\n",
        "  i+=1\n",
        "\n",
        "  for w in words1:\n",
        "    if (w in x) :\n",
        "      lis_commercial.append(x)\n",
        "      w1+=1\n",
        "      break\n",
        "      \n",
        "  for w in words2:\n",
        "    if (w in x) :\n",
        "      lis_auction.append(x)\n",
        "      w2+=1\n",
        "      break\n",
        "  \n",
        "  for w in words3:\n",
        "    words = words1 + words2 + words4\n",
        "    #matching = [s for s in words if s in lis_societe]\n",
        "    for wo in words:\n",
        "      if w in x and wo not in x:\n",
        "        lis_societe.append(x)\n",
        "        w3+=1\n",
        "\n",
        "  for w in words4:\n",
        "    words = words1 + words2 + words3\n",
        "    for wo in words:\n",
        "      if w in x and wo not in x :\n",
        "        lis_annonce.append(x)\n",
        "        w4+=1\n",
        "\n",
        "lis_societe = list(dict.fromkeys(lis_societe))\n",
        "lis_annonce = list(dict.fromkeys(lis_annonce))\n",
        "\n",
        "word_3 = words1 + words2 + words4\n",
        "matching3 = [s for s in word_3 if s in lis_societe]\n",
        "print(matching3)\n",
        "word_4 = words1 + words2 + words3\n",
        "matching4 = [s for s in word_4 if s in lis_annonce]\n",
        "print(matching4)\n",
        "\n",
        "print('i : ',i)\n",
        "print('commercial : ',w1,len(lis_commercial)) \n",
        "print('auction : ',w2,len(lis_auction))\n",
        "print('societe : ',w3,len(lis_societe))\n",
        "print('annonce : ',w4,len(lis_annonce)) "
      ],
      "execution_count": 73,
      "outputs": [
        {
          "output_type": "stream",
          "name": "stdout",
          "text": [
            "[]\n",
            "[]\n",
            "i :  92\n",
            "commercial :  31 31\n",
            "auction :  9 9\n",
            "societe :  2532 42\n",
            "annonce :  658 12\n"
          ]
        }
      ]
    },
    {
      "cell_type": "code",
      "metadata": {
        "id": "rZJ2vIYUtNaB",
        "colab": {
          "base_uri": "https://localhost:8080/"
        },
        "outputId": "5e4acee4-abe8-4cfc-f000-a59e95165dbf"
      },
      "source": [
        "matching = [s for s in lis_commercial if s in lis_societe]\n",
        "print(matching)"
      ],
      "execution_count": 68,
      "outputs": [
        {
          "output_type": "stream",
          "name": "stdout",
          "text": [
            "['3 _________________________ استدعاء للجلسة العامة العادية الشركة التونسية لصناعة الموس والحشايا ومشتقاته الحديثة ش خ إ رأس مالها 000 148 16 دينار طريق قابس كلم 3 صفاقس م و 0620656M إن السادة المساهمين في رأس مال الشركة التونسية لصناعة الموس والحشايا ومشتقاته الحديثة مدعوون لحضور الجلسة العامة العادية المزمع عقدها يوم الجمعة 26 نوفمبر 2021 على الساعة التاسعة صباحا بالمقر الاجتماعي للشركة قصد التداول في جدول الأعمال التالي ـ تلاوة تقرير التصرف لسنة 2020 ـ تلاوة تقريري مراقب الحسابات لسنة 2020  2420 الرائد الرسمي للجمهورية التونسية  29 أكتوبر 2021 عــدد 99 ـ المصادقة على حسابات السنة المالية 2020 ـ تخصيص النتيجة النهائية للسنة المالية 2020 ـ إعطاء الإبراء التام للوكالة إزاء أعمال تصرف سنة 2020 ـ المصادقة على الاتفاقيات المبرمة طبقا لمقتضيات الفصل 115 من مجلة الشركات التجارية ـ إصلاح خطأ مادي ـ مسائل مختلفة ']\n"
          ]
        }
      ]
    },
    {
      "cell_type": "code",
      "metadata": {
        "id": "EtshMtFTa4ik"
      },
      "source": [
        ""
      ],
      "execution_count": null,
      "outputs": []
    },
    {
      "cell_type": "code",
      "metadata": {
        "id": "kgd0HxB_zSNZ",
        "colab": {
          "base_uri": "https://localhost:8080/"
        },
        "outputId": "1e7ca1f6-7f8a-4945-f321-0f7d49a5b2a7"
      },
      "source": [
        "def clean_txt(text):\n",
        "  txt = re.sub(\"\\W+\", ' ', str(text)) #\\W+ \n",
        "  txt = re.sub(\"[?|$|.|!]\", '', str(txt))\n",
        "  txt = re.sub(\"صفحـة\", '', str(txt))\n",
        "  txt = re.sub(\"عدد\", '', str(txt))\n",
        "  txt = re.sub(\"إعلانات قانونية وشرعية وعدلية\", '', str(txt))\n",
        "  txt = re.sub(\"الرائد الرسمي للجمهورية التونسية\", '', str(txt))\n",
        "  txt = re.sub(\"–\", '', str(txt))\n",
        "  txt = re.sub(\"تعريف الإمضاء : رئيس البلدية\", '', str(txt))\n",
        "  txt = re.sub(\"تعريف الإمضاء رئيس البلدية\", '', str(txt))\n",
        "  txt = re.sub(\"نسخة مطابقة : الرئيس المدير العام للمطبعة الرسمية للجمهورية التونسية\", '', str(txt))\n",
        "  txt = re.sub(\"نسخة مطابقة الرئيس المدير العام للمطبعة الرسمية للجمهورية التونسية\", '', str(txt))\n",
        "  txt = re.sub(\"ر د م د\", '', str(txt))\n",
        "\n",
        "  return txt\n",
        "\n",
        "def count(path):\n",
        "  i = 0\n",
        "  w1 = 0\n",
        "  w2 = 0\n",
        "  w3 = 0\n",
        "  w4 = 0\n",
        "\n",
        "  lis_commercial = []\n",
        "  lis_auction = []\n",
        "  lis_societe = []\n",
        "  lis_annonce = []\n",
        "\n",
        "  words1 = ['أصول تجارية','أصل تجاري']\n",
        "  words2 = ['بتة','المزاد العلني','بالمزاد العلني','علان تبتيت','عقلة عقارية','رهن الإختياري','المعقول عنه','المعقول ضده']\n",
        "  words3 = ['التصرف في شركات','إعلان للدائنين','رأس المال','شركة خفية الإسم','مصادقة على تقارير','أشركات خرى','رأس مال شركة'\n",
        "                  ,'رأس مالها','حل الشركة','استدعاء للجلسة العامة العادية','ستدعاء للجلسة العامة الخارقة'\n",
        "                  ,'فتح إجراءات التسوية القضائية','دائن','إعلان توزيع ','ختم أعمال الفلسة','علان توزيع أموال','إعلان للمساهمين','تعيين مجلس إدارة','طلب عروض','فلسة']\n",
        "  words4 = ['جمعيات','جمعية','أحزاب','نقابات','نقابة','اتحاد','حزب','تكوين ودادية','انتخاب أعضاء'\n",
        "                  ,'تكوين جمعية','انتخاب مكتب جديد','ضياع سند','إعــلانات للعمــوم','أضاعا','أضاع'\n",
        "                  ,'اعلام للعموم','ضياع','إصلاح خطأ','تكوين نقابة ','تغيير إسم جمعية ','إستخراج رسم','حكم تقديم','يعلن ورثة المرحوم','يعلن ورثة المرحومة','رسم تملك مورثهم']\n",
        "\n",
        "  mat_re1 = []\n",
        "  mat_re2 = []\n",
        "\n",
        "  for fname in os.listdir(path):\n",
        "        fpath = os.path.join(path, fname)\n",
        "\n",
        "        with open(fpath, 'r+') as f:\n",
        "            lines = f.read() #readlines  .rstrip('\\n')   \n",
        "        regex = \"/202[A-Z,0-9]{10}|202[A-Z,0-9]{11}|202[A-Z,0-9]{12}|202[A-Z,0-9]{13}|202[A-Z,0-9]{14}/\"\n",
        "        xtxt = re.split(regex, str(lines))\n",
        "\n",
        "        for x in xtxt :\n",
        "          x = clean_txt(x)\n",
        "          i+=1\n",
        "          for w in words1:\n",
        "            if (w in x) :\n",
        "              lis_commercial.append(x)\n",
        "              w1+=1\n",
        "              break\n",
        "          for w in words2:\n",
        "            if (w in x) :\n",
        "              lis_auction.append(x)\n",
        "              w2+=1\n",
        "              break \n",
        "          for w in words3:\n",
        "            words = words1 + words2 + words4\n",
        "            #matching = [s for s in words if s in lis_societe]\n",
        "            for wo in words:\n",
        "              if w in x and wo not in x:\n",
        "                lis_societe.append(x)\n",
        "                w3+=1\n",
        "          for w in words4:\n",
        "            words = words1 + words2 + words3\n",
        "            for wo in words:\n",
        "              if w in x and wo not in x :\n",
        "                lis_annonce.append(x)\n",
        "                w4+=1\n",
        "\n",
        "  lis_commercial = list(dict.fromkeys(lis_commercial))\n",
        "  lis_auction = list(dict.fromkeys(lis_auction))\n",
        "  lis_societe = list(dict.fromkeys(lis_societe))\n",
        "  lis_annonce = list(dict.fromkeys(lis_annonce))\n",
        "\n",
        "  print('i : ',i)\n",
        "  print('commercial : ',w1,len(lis_commercial)) \n",
        "  print('auction : ',w2,len(lis_auction))\n",
        "  print('societe : ',w3,len(lis_societe))\n",
        "  print('annonce : ',w4,len(lis_annonce))  \n",
        "  \n",
        "  return lis_commercial, lis_auction, lis_societe, lis_annonce\n",
        "\n",
        "lien = '/content/drive/MyDrive/press/jort_txt/'\n",
        "l1,l2,l3,l4 = count(lien)"
      ],
      "execution_count": 92,
      "outputs": [
        {
          "output_type": "stream",
          "name": "stdout",
          "text": [
            "i :  10564\n",
            "commercial :  3171 2849\n",
            "auction :  1188 1043\n",
            "societe :  291481 4171\n",
            "annonce :  89110 1652\n"
          ]
        }
      ]
    },
    {
      "cell_type": "code",
      "metadata": {
        "colab": {
          "base_uri": "https://localhost:8080/"
        },
        "id": "P0Lqp1jrbHRM",
        "outputId": "631752f1-28eb-4334-e2f9-eca8a4caaa0c"
      },
      "source": [
        "len(l4)"
      ],
      "execution_count": 94,
      "outputs": [
        {
          "output_type": "execute_result",
          "data": {
            "text/plain": [
              "1652"
            ]
          },
          "metadata": {},
          "execution_count": 94
        }
      ]
    },
    {
      "cell_type": "markdown",
      "metadata": {
        "id": "ZW_xCiUff6pU"
      },
      "source": [
        "create 4 dataframe + 4 csv files"
      ]
    },
    {
      "cell_type": "code",
      "metadata": {
        "id": "lbrkHAJqf5-E"
      },
      "source": [
        "# Initialize data to lists.\n",
        "data = l1\n",
        "\n",
        "# Creates DataFrame.\n",
        "df = pd.DataFrame(data, index=['أصل تجاري','بيع بالمزاد العلني','الشركة طلب العروض','إعلان'])\n",
        "  \n",
        "# Print the data\n",
        "df"
      ],
      "execution_count": null,
      "outputs": []
    },
    {
      "cell_type": "code",
      "metadata": {
        "id": "Cfxrzg6nf57c"
      },
      "source": [
        "df.to_csv(r'/content/drive/MyDrive/press/dataset.csv', index = True)"
      ],
      "execution_count": null,
      "outputs": []
    },
    {
      "cell_type": "code",
      "metadata": {
        "id": "8uvUj1cGgFCC"
      },
      "source": [
        "data = l2\n",
        "\n",
        "# Creates DataFrame.\n",
        "df = pd.DataFrame(data, index=['أصل تجاري','بيع بالمزاد العلني','الشركة طلب العروض','إعلان'])\n",
        "  \n",
        "# Print the data\n",
        "df"
      ],
      "execution_count": null,
      "outputs": []
    },
    {
      "cell_type": "code",
      "metadata": {
        "id": "s_pqOF40gE90"
      },
      "source": [
        "df.to_csv(r'/content/drive/MyDrive/press/dataset.csv', index = True)"
      ],
      "execution_count": null,
      "outputs": []
    },
    {
      "cell_type": "code",
      "metadata": {
        "id": "izopaaglgEik"
      },
      "source": [
        "data = l3\n",
        "\n",
        "# Creates DataFrame.\n",
        "df = pd.DataFrame(data, index=['أصل تجاري','بيع بالمزاد العلني','الشركة طلب العروض','إعلان'])\n",
        "  \n",
        "# Print the data\n",
        "df"
      ],
      "execution_count": null,
      "outputs": []
    },
    {
      "cell_type": "code",
      "metadata": {
        "id": "Vka0v2mygVLj"
      },
      "source": [
        "df = df.drop_duplicates() #drop duplicate/ list"
      ],
      "execution_count": null,
      "outputs": []
    },
    {
      "cell_type": "code",
      "metadata": {
        "id": "R4N3Gi3_gKGA"
      },
      "source": [
        "df.to_csv(r'/content/drive/MyDrive/press/dataset.csv', index = True)"
      ],
      "execution_count": null,
      "outputs": []
    },
    {
      "cell_type": "code",
      "metadata": {
        "id": "FWjhrQV3gKEe"
      },
      "source": [
        "data = l4\n",
        "\n",
        "# Creates DataFrame.\n",
        "df = pd.DataFrame(data, index=['أصل تجاري','بيع بالمزاد العلني','الشركة طلب العروض','إعلان'])\n",
        "  \n",
        "# Print the data\n",
        "df"
      ],
      "execution_count": null,
      "outputs": []
    },
    {
      "cell_type": "code",
      "metadata": {
        "id": "KablekkMgbmE"
      },
      "source": [
        "df = df.drop_duplicates()"
      ],
      "execution_count": null,
      "outputs": []
    },
    {
      "cell_type": "code",
      "metadata": {
        "id": "zi4-k6xKgJsM"
      },
      "source": [
        "df.to_csv(r'/content/drive/MyDrive/press/dataset.csv', index = True)"
      ],
      "execution_count": null,
      "outputs": []
    },
    {
      "cell_type": "code",
      "metadata": {
        "id": "UUpWwMd4gEf0"
      },
      "source": [
        ""
      ],
      "execution_count": null,
      "outputs": []
    },
    {
      "cell_type": "code",
      "metadata": {
        "id": "ayKJcrRc0S6k"
      },
      "source": [
        "# Initialize data to lists.\n",
        "data = [l1,l2,l3,l4]\n",
        "\n",
        "# Creates DataFrame.\n",
        "df = pd.DataFrame(data, index=['أصل تجاري','بيع بالمزاد العلني','الشركة طلب العروض','إعلان'])\n",
        "  \n",
        "# Print the data\n",
        "df"
      ],
      "execution_count": null,
      "outputs": []
    },
    {
      "cell_type": "code",
      "metadata": {
        "id": "TAvyDJtpzR7e"
      },
      "source": [
        "df.to_csv(r'/content/drive/MyDrive/press/dataset.csv', index = False)"
      ],
      "execution_count": null,
      "outputs": []
    },
    {
      "cell_type": "code",
      "metadata": {
        "id": "6neOl--3MvZQ"
      },
      "source": [
        "\"\"\"\n",
        "أشركات خرى\n",
        "\n",
        "التصرف في شركات\n",
        "مصادقة على تقارير ........................................................................\n",
        "أصول تجارية\n",
        "بيع أصول تجارية ..........................................................................\n",
        "كراء أصول تجارية .........................................................................\n",
        "جمعيات وأحزاب ونقابات\n",
        "تكوين ....................................................................................\n",
        "مصادقة على تقارير ........................................................................\n",
        "إجراءات عدلية\n",
        "بيوعات بالمزاد العلني ......................................................................\n",
        "إعلان للدائنين .............................................................................\n",
        "استدعاءات\n",
        "شركات خفية الإسم وشركات ذات مسؤولية محدودة وشركات أخرى ............................\n",
        "مختلفات\n",
        "إعلانات للعموم ............................................................................\n",
        "موازنات وحسابات مالية\n",
        "موازنة سيكاف الإنماء.......................................................................\n",
        "موازنة سيكاف تثمير........................................................................\n",
        "إجراءات إدارية\n",
        "إعلانات للعموم ......................................................................................\n",
        "إعلانات للعموم وإصلاح خطأ.................................................................. \n",
        "\"\"\""
      ],
      "execution_count": null,
      "outputs": []
    }
  ]
}