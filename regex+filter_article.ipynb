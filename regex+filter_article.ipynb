{
  "nbformat": 4,
  "nbformat_minor": 0,
  "metadata": {
    "colab": {
      "name": "regex+filter_article.ipynb",
      "provenance": [],
      "collapsed_sections": [],
      "authorship_tag": "ABX9TyM2hYbFvqgoCgqNbfm52XRk",
      "include_colab_link": true
    },
    "kernelspec": {
      "name": "python3",
      "display_name": "Python 3"
    },
    "language_info": {
      "name": "python"
    }
  },
  "cells": [
    {
      "cell_type": "markdown",
      "metadata": {
        "id": "view-in-github",
        "colab_type": "text"
      },
      "source": [
        "<a href=\"https://colab.research.google.com/github/Bayrem-ben/colab.github.io/blob/main/regex%2Bfilter_article.ipynb\" target=\"_parent\"><img src=\"https://colab.research.google.com/assets/colab-badge.svg\" alt=\"Open In Colab\"/></a>"
      ]
    },
    {
      "cell_type": "code",
      "metadata": {
        "id": "l60iWBChzPau",
        "colab": {
          "base_uri": "https://localhost:8080/"
        },
        "outputId": "c189fa8c-736e-4662-a68a-ebfb8a6f90e8"
      },
      "source": [
        "from google.colab import drive\n",
        "drive.mount(\"/content/drive\")"
      ],
      "execution_count": 2,
      "outputs": [
        {
          "output_type": "stream",
          "name": "stdout",
          "text": [
            "Mounted at /content/drive\n"
          ]
        }
      ]
    },
    {
      "cell_type": "code",
      "metadata": {
        "id": "kveE7rO5zSTW"
      },
      "source": [
        "import cv2\n",
        "import imutils\n",
        "import os\n",
        "import numpy as np\n",
        "import pandas as pd\n",
        "import matplotlib.pyplot as plt\n",
        "import string\n",
        "import re"
      ],
      "execution_count": 13,
      "outputs": []
    },
    {
      "cell_type": "code",
      "metadata": {
        "id": "V_BLLi59hvAp"
      },
      "source": [
        "!pip install PyPDF2"
      ],
      "execution_count": null,
      "outputs": []
    },
    {
      "cell_type": "code",
      "metadata": {
        "id": "1K0PcGdmzSQT"
      },
      "source": [
        "import PyPDF2\n",
        "\n",
        "# creating a pdf file object \n",
        "pdfFileObj = open('/content/drive/MyDrive/press/jort/099JournalAnnonceArabe2021.pdf', 'rb')\n",
        "\n",
        "# creating a pdf reader object \n",
        "pdfReader = PyPDF2.PdfFileReader(pdfFileObj) \n",
        "\n",
        "\n",
        "# creating a page object \n",
        "pageObj = pdfReader.getPage(1) \n",
        "\n",
        "# extracting text from page \n",
        "read=pageObj.extractText()\n",
        "print(read)\n",
        "\n",
        "regex2 = re.compile(r'^2021.')\n",
        "\n",
        "e=regex2.findall(read)\n",
        "\n",
        "x = re.split(\"^2021.\", read)\n",
        "print(e)\n",
        "print(x)"
      ],
      "execution_count": null,
      "outputs": []
    },
    {
      "cell_type": "code",
      "metadata": {
        "id": "DyyDttwBthr7"
      },
      "source": [
        ""
      ],
      "execution_count": null,
      "outputs": []
    },
    {
      "cell_type": "markdown",
      "metadata": {
        "id": "0p376utKxsDe"
      },
      "source": [
        "start"
      ]
    },
    {
      "cell_type": "code",
      "metadata": {
        "id": "0DlSFWR9qR1q"
      },
      "source": [
        "txts = '/content/drive/MyDrive/press/99.txt'\n",
        "with open(txts, 'r+') as f:\n",
        "    lines = f.read() #readlines  .rstrip('\\n')"
      ],
      "execution_count": 82,
      "outputs": []
    },
    {
      "cell_type": "code",
      "metadata": {
        "id": "kKHO0YCCuBc7"
      },
      "source": [
        "lines"
      ],
      "execution_count": null,
      "outputs": []
    },
    {
      "cell_type": "code",
      "metadata": {
        "id": "I7YS9D_GqRyb"
      },
      "source": [
        "# extracting text from page \n",
        "regex = '(\\r\\n?|\\n)+'\n",
        "regex2 = \"^2021.\"\n",
        "\n",
        "#regex2 = re.compile(r'^2021.')\n",
        "#e = regex2.split(str(lines))\n",
        "xtxt = re.split(regex2, str(lines))\n",
        "\n",
        "i = 0\n",
        "for x in xtxt :\n",
        "  print('section : ', i)\n",
        "  print(x)\n",
        "  i+=1\n",
        "  if x == \"banana\":\n",
        "    continue"
      ],
      "execution_count": null,
      "outputs": []
    },
    {
      "cell_type": "code",
      "metadata": {
        "id": "29Ockw9YpV2E"
      },
      "source": [
        ""
      ],
      "execution_count": null,
      "outputs": []
    },
    {
      "cell_type": "code",
      "metadata": {
        "id": "kgd0HxB_zSNZ"
      },
      "source": [
        "def count(path):\n",
        "  l = []\n",
        "\n",
        "  for fname in os.listdir(path):\n",
        "        fpath = os.path.join(path, fname)\n",
        "        image = cv2.imread(fpath)\n",
        "\n",
        "        l.append(image)        \n",
        "  return l\n",
        "\n",
        "lien = '/content/drive/MyDrive/press/jort'\n",
        "with open\n",
        "obj = count(lien)"
      ],
      "execution_count": null,
      "outputs": []
    },
    {
      "cell_type": "code",
      "metadata": {
        "id": "AdXUrfJjzSK8"
      },
      "source": [
        ""
      ],
      "execution_count": null,
      "outputs": []
    },
    {
      "cell_type": "code",
      "metadata": {
        "id": "TAvyDJtpzR7e"
      },
      "source": [
        "data.to_csv(r'/content/drive/MyDrive/press/article_clean.csv', index = False)"
      ],
      "execution_count": null,
      "outputs": []
    }
  ]
}