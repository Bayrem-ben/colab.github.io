{
  "nbformat": 4,
  "nbformat_minor": 0,
  "metadata": {
    "colab": {
      "name": "extract_categ_from_jort.ipynb",
      "provenance": [],
      "collapsed_sections": [],
      "include_colab_link": true
    },
    "kernelspec": {
      "display_name": "Python 3",
      "name": "python3"
    },
    "language_info": {
      "name": "python"
    }
  },
  "cells": [
    {
      "cell_type": "markdown",
      "metadata": {
        "id": "view-in-github",
        "colab_type": "text"
      },
      "source": [
        "<a href=\"https://colab.research.google.com/github/Bayrem-ben/colab.github.io/blob/main/extract_categ_from_jort.ipynb\" target=\"_parent\"><img src=\"https://colab.research.google.com/assets/colab-badge.svg\" alt=\"Open In Colab\"/></a>"
      ]
    },
    {
      "cell_type": "code",
      "metadata": {
        "colab": {
          "base_uri": "https://localhost:8080/"
        },
        "id": "l60iWBChzPau",
        "outputId": "16f67215-c262-4263-bf6b-b9b57f47087b"
      },
      "source": [
        "from google.colab import drive\n",
        "drive.mount(\"/content/drive\")"
      ],
      "execution_count": 2,
      "outputs": [
        {
          "output_type": "stream",
          "name": "stdout",
          "text": [
            "Drive already mounted at /content/drive; to attempt to forcibly remount, call drive.mount(\"/content/drive\", force_remount=True).\n"
          ]
        }
      ]
    },
    {
      "cell_type": "code",
      "metadata": {
        "id": "kveE7rO5zSTW"
      },
      "source": [
        "import cv2\n",
        "import imutils\n",
        "import os\n",
        "import numpy as np\n",
        "import pandas as pd\n",
        "import matplotlib.pyplot as plt\n",
        "import string\n",
        "import re"
      ],
      "execution_count": 14,
      "outputs": []
    },
    {
      "cell_type": "code",
      "metadata": {
        "id": "2MsZoktr12kP"
      },
      "source": [
        "from urllib.request import Request, urlopen\n",
        "import json\n",
        "\n",
        "import pandas as pd    \n",
        "\n",
        "file = open(\"/content/drive/MyDrive/jort/jortapi.json\", 'r')\n",
        "data = file.read()\n",
        "#data = json.load(file)\n",
        "file.close()"
      ],
      "execution_count": 2,
      "outputs": []
    },
    {
      "cell_type": "code",
      "source": [
        "import ast\n",
        "\n",
        "#res = json.loads(data)\n",
        "res = ast.literal_eval(data)\n",
        "\n",
        "\n",
        "print(len(res))"
      ],
      "metadata": {
        "id": "vAIHt7LHygYU"
      },
      "execution_count": null,
      "outputs": []
    },
    {
      "cell_type": "code",
      "source": [
        "df = pd.DataFrame(data, columns=['article_text, lang'])"
      ],
      "metadata": {
        "id": "DFJBVdBruyWD"
      },
      "execution_count": null,
      "outputs": []
    },
    {
      "cell_type": "code",
      "source": [
        "#a_json = json.loads(\"/content/drive/MyDrive/jort/jortapi.json\")\n",
        "#df = pd.read_json(\"/content/drive/MyDrive/jort/jortapi.json\", orient='columns')\n",
        "df= pd.read_csv(\"/content/drive/MyDrive/jort/jortapi.csv\")\n",
        "df"
      ],
      "metadata": {
        "id": "sSPnGFrmlorc"
      },
      "execution_count": null,
      "outputs": []
    },
    {
      "cell_type": "code",
      "source": [
        "import csv\n",
        "\n",
        "file = open('/content/drive/MyDrive/jort/jortapi.csv')\n",
        "\n",
        "csvreader = csv.reader(file)\n",
        "#header = next(csvreader)\n",
        "#print(header)\n",
        "rows = []\n",
        "for row in csvreader:\n",
        "    rows.append(row)\n",
        "#print(rows)\n",
        "file.close()"
      ],
      "metadata": {
        "id": "4Qg7Ka0_2cwU"
      },
      "execution_count": 8,
      "outputs": []
    },
    {
      "cell_type": "code",
      "source": [
        "df = pd.DataFrame(rows)"
      ],
      "metadata": {
        "id": "X0X0-NU_5Dzs"
      },
      "execution_count": 15,
      "outputs": []
    },
    {
      "cell_type": "code",
      "source": [
        "df.head(100)"
      ],
      "metadata": {
        "id": "ItJb0IHQ4aNJ"
      },
      "execution_count": null,
      "outputs": []
    },
    {
      "cell_type": "code",
      "source": [
        "update_df = df.drop([df.index[0], df.index[1] , df.index[2]]) #\n",
        "update_df = update_df.drop(df.columns[[0, 1, 2, 3, 4, 5, 6, 8, 10,11,12,13,14,15,16,17,18]], axis=1)\n",
        "update_df = update_df.dropna()\n",
        "update_df = update_df[(update_df[9] == \"Fr\")]\n",
        "update_df"
      ],
      "metadata": {
        "id": "Tyf979-E5v4y"
      },
      "execution_count": 116,
      "outputs": []
    },
    {
      "cell_type": "code",
      "source": [
        "\n"
      ],
      "metadata": {
        "id": "rI2WlDpgeTpX"
      },
      "execution_count": 113,
      "outputs": []
    },
    {
      "cell_type": "code",
      "source": [
        "update_df"
      ],
      "metadata": {
        "id": "R9FUYBacuy9_"
      },
      "execution_count": null,
      "outputs": []
    },
    {
      "cell_type": "code",
      "source": [
        "def clean_txt(text):\n",
        "  txt = re.sub(\"\\W+\", ' ', str(text)) #\\W+ \n",
        "  txt = re.sub(\"[$|]\", '', str(txt))\n",
        "  return txt\n",
        "\n",
        "words1 = []\n",
        "\n",
        "words2 = []\n",
        "\n",
        "words3 = []\n",
        "\n",
        "words4 = []\n",
        "\n",
        "i = 0\n",
        "w1 = 0\n",
        "w2 = 0\n",
        "w3 = 0\n",
        "w4 = 0\n",
        "\n",
        "lis_commercial = []\n",
        "lis_auction = []\n",
        "lis_societe = []\n",
        "lis_annonce = []\n",
        "\n",
        "for x in update_df :\n",
        "  x = clean_txt(x)\n",
        "  #print('section : ', i)\n",
        "  #print(x)\n",
        "  i+=1\n",
        "\n",
        "  for w in words1:\n",
        "    if (w in x) :\n",
        "      lis_commercial.append(x)\n",
        "      w1+=1\n",
        "      break\n",
        "      \n",
        "  for w in words2:\n",
        "    if (w in x) :\n",
        "      lis_auction.append(x)\n",
        "      w2+=1\n",
        "      break\n",
        "  \n",
        "  for w in words3:\n",
        "    words = words1 + words2 + words4\n",
        "    #matching = [s for s in words if s in lis_societe]\n",
        "    for wo in words:\n",
        "      if w in x and wo not in x:\n",
        "        lis_societe.append(x)\n",
        "        w3+=1\n",
        "\n",
        "  for w in words4:\n",
        "    words = words1 + words2 + words3\n",
        "    for wo in words:\n",
        "      if w in x and wo not in x :\n",
        "        lis_annonce.append(x)\n",
        "        w4+=1"
      ],
      "metadata": {
        "id": "-Kv2tG4_eTmw"
      },
      "execution_count": null,
      "outputs": []
    },
    {
      "cell_type": "code",
      "metadata": {
        "colab": {
          "base_uri": "https://localhost:8080/"
        },
        "id": "I7YS9D_GqRyb",
        "outputId": "caf15e45-a2ea-4e68-af5b-e5b13196b750"
      },
      "source": [
        "lis_societe = list(dict.fromkeys(lis_societe))\n",
        "lis_annonce = list(dict.fromkeys(lis_annonce))\n",
        "\n",
        "word_3 = words1 + words2 + words4\n",
        "matching3 = [s for s in word_3 if s in lis_societe]\n",
        "print(matching3)\n",
        "word_4 = words1 + words2 + words3\n",
        "matching4 = [s for s in word_4 if s in lis_annonce]\n",
        "print(matching4)\n",
        "\n",
        "print('i : ',i)\n",
        "print('commercial : ',w1,len(lis_commercial)) \n",
        "print('auction : ',w2,len(lis_auction))\n",
        "print('societe : ',w3,len(lis_societe))\n",
        "print('annonce : ',w4,len(lis_annonce)) "
      ],
      "execution_count": null,
      "outputs": [
        {
          "output_type": "stream",
          "name": "stdout",
          "text": [
            "[]\n",
            "[]\n",
            "i :  92\n",
            "commercial :  31 31\n",
            "auction :  9 9\n",
            "societe :  2532 42\n",
            "annonce :  658 12\n"
          ]
        }
      ]
    },
    {
      "cell_type": "code",
      "metadata": {
        "colab": {
          "base_uri": "https://localhost:8080/"
        },
        "id": "m_TxR_hSOSBs",
        "outputId": "73e8195d-0e61-4c15-8a13-cedb033f0e5a"
      },
      "source": [
        "l1 = list(set(l1) - set(l2+l4))\n",
        "len(l1)"
      ],
      "execution_count": null,
      "outputs": [
        {
          "output_type": "execute_result",
          "data": {
            "text/plain": [
              "2843"
            ]
          },
          "metadata": {},
          "execution_count": 75
        }
      ]
    },
    {
      "cell_type": "code",
      "metadata": {
        "colab": {
          "base_uri": "https://localhost:8080/"
        },
        "id": "E3vQete5F3zW",
        "outputId": "09b78ab2-90b5-40cd-a511-06683ef83f64"
      },
      "source": [
        "l3 = list(set(l3) - set(l1+l2+l4))\n",
        "len(l3)\n"
      ],
      "execution_count": null,
      "outputs": [
        {
          "output_type": "execute_result",
          "data": {
            "text/plain": [
              "3079"
            ]
          },
          "metadata": {},
          "execution_count": 76
        }
      ]
    },
    {
      "cell_type": "code",
      "metadata": {
        "colab": {
          "base_uri": "https://localhost:8080/"
        },
        "id": "odWENRhFF75c",
        "outputId": "62e63788-8ac1-4c2c-863c-86d656d951b8"
      },
      "source": [
        "l4 = list(set(l4) - set(l3+l2+l1))\n",
        "len(l4)"
      ],
      "execution_count": null,
      "outputs": [
        {
          "output_type": "execute_result",
          "data": {
            "text/plain": [
              "1627"
            ]
          },
          "metadata": {},
          "execution_count": 77
        }
      ]
    },
    {
      "cell_type": "code",
      "metadata": {
        "id": "lbrkHAJqf5-E"
      },
      "source": [
        "# Initialize data to lists.\n",
        "data = l1\n",
        "\n",
        "# Creates DataFrame.\n",
        "df1 = pd.DataFrame(data, columns=['أصل تجاري'])\n",
        "  \n",
        "# Print the data\n",
        "df1"
      ],
      "execution_count": null,
      "outputs": []
    },
    {
      "cell_type": "code",
      "metadata": {
        "id": "8uvUj1cGgFCC"
      },
      "source": [
        "data = l2\n",
        "\n",
        "# Creates DataFrame.\n",
        "df2 = pd.DataFrame(data, columns=['بيع بالمزاد العلني'])\n",
        "  \n",
        "# Print the data\n",
        "df2"
      ],
      "execution_count": null,
      "outputs": []
    },
    {
      "cell_type": "code",
      "metadata": {
        "id": "izopaaglgEik"
      },
      "source": [
        "data = l3\n",
        "\n",
        "# Creates DataFrame.\n",
        "df3 = pd.DataFrame(data, columns=['الشركة طلب العروض'])\n",
        "  \n",
        "# Print the data\n",
        "df3"
      ],
      "execution_count": null,
      "outputs": []
    },
    {
      "cell_type": "code",
      "metadata": {
        "id": "FWjhrQV3gKEe"
      },
      "source": [
        "data = l4\n",
        "\n",
        "# Creates DataFrame.\n",
        "df4 = pd.DataFrame(data, columns=['إعلان'])\n",
        "  \n",
        "# Print the data\n",
        "df4"
      ],
      "execution_count": null,
      "outputs": []
    },
    {
      "cell_type": "code",
      "metadata": {
        "id": "sqrd9cPsA2XH"
      },
      "source": [
        "from sklearn.utils import shuffle\n",
        "\n",
        "df1 = shuffle(df1)\n",
        "df2 = shuffle(df2)\n",
        "df3 = shuffle(df3)\n",
        "df4 = shuffle(df4)"
      ],
      "execution_count": null,
      "outputs": []
    },
    {
      "cell_type": "code",
      "metadata": {
        "id": "ayKJcrRc0S6k"
      },
      "source": [
        "# Initialize data to lists.\n",
        "data = [l1,l2,l3,l4]\n",
        "\n",
        "# Creates DataFrame.\n",
        "df = pd.DataFrame(data, index=[\"\"])\n",
        "  \n",
        "# Print the data\n",
        "df"
      ],
      "execution_count": null,
      "outputs": []
    },
    {
      "cell_type": "code",
      "metadata": {
        "id": "TAvyDJtpzR7e"
      },
      "source": [
        "df.to_csv(r'/content/drive/MyDrive/press/dataset.csv', index = False)"
      ],
      "execution_count": null,
      "outputs": []
    }
  ]
}