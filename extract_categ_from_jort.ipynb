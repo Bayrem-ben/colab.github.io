{
  "nbformat": 4,
  "nbformat_minor": 0,
  "metadata": {
    "colab": {
      "name": "extract_categ_from_jort.ipynb",
      "provenance": [],
      "collapsed_sections": [],
      "include_colab_link": true
    },
    "kernelspec": {
      "display_name": "Python 3",
      "name": "python3"
    },
    "language_info": {
      "name": "python"
    }
  },
  "cells": [
    {
      "cell_type": "markdown",
      "metadata": {
        "id": "view-in-github",
        "colab_type": "text"
      },
      "source": [
        "<a href=\"https://colab.research.google.com/github/Bayrem-ben/colab.github.io/blob/main/extract_categ_from_jort.ipynb\" target=\"_parent\"><img src=\"https://colab.research.google.com/assets/colab-badge.svg\" alt=\"Open In Colab\"/></a>"
      ]
    },
    {
      "cell_type": "code",
      "metadata": {
        "colab": {
          "base_uri": "https://localhost:8080/"
        },
        "id": "l60iWBChzPau",
        "outputId": "16f67215-c262-4263-bf6b-b9b57f47087b"
      },
      "source": [
        "from google.colab import drive\n",
        "drive.mount(\"/content/drive\")"
      ],
      "execution_count": 2,
      "outputs": [
        {
          "output_type": "stream",
          "name": "stdout",
          "text": [
            "Drive already mounted at /content/drive; to attempt to forcibly remount, call drive.mount(\"/content/drive\", force_remount=True).\n"
          ]
        }
      ]
    },
    {
      "cell_type": "code",
      "metadata": {
        "id": "kveE7rO5zSTW"
      },
      "source": [
        "import cv2\n",
        "import imutils\n",
        "import os\n",
        "import numpy as np\n",
        "import pandas as pd\n",
        "import matplotlib.pyplot as plt\n",
        "import string\n",
        "import re"
      ],
      "execution_count": 14,
      "outputs": []
    },
    {
      "cell_type": "code",
      "metadata": {
        "id": "2MsZoktr12kP"
      },
      "source": [
        "from urllib.request import Request, urlopen\n",
        "import json\n",
        "\n",
        "import pandas as pd    \n",
        "\n",
        "file = open(\"/content/drive/MyDrive/jort/jortapi.json\", 'r')\n",
        "data = file.read()\n",
        "#data = json.load(file)\n",
        "file.close()"
      ],
      "execution_count": 2,
      "outputs": []
    },
    {
      "cell_type": "code",
      "source": [
        "import ast\n",
        "\n",
        "#res = json.loads(data)\n",
        "res = ast.literal_eval(data)\n",
        "\n",
        "\n",
        "print(len(res))"
      ],
      "metadata": {
        "id": "vAIHt7LHygYU"
      },
      "execution_count": null,
      "outputs": []
    },
    {
      "cell_type": "code",
      "source": [
        "df = pd.DataFrame(data, columns=['article_text, lang'])"
      ],
      "metadata": {
        "id": "DFJBVdBruyWD"
      },
      "execution_count": null,
      "outputs": []
    },
    {
      "cell_type": "code",
      "source": [
        "#a_json = json.loads(\"/content/drive/MyDrive/jort/jortapi.json\")\n",
        "#df = pd.read_json(\"/content/drive/MyDrive/jort/jortapi.json\", orient='columns')\n",
        "df= pd.read_csv(\"/content/drive/MyDrive/jort/jortapi.csv\")\n",
        "df"
      ],
      "metadata": {
        "id": "sSPnGFrmlorc"
      },
      "execution_count": null,
      "outputs": []
    },
    {
      "cell_type": "code",
      "source": [
        "import csv\n",
        "\n",
        "file = open('/content/drive/MyDrive/jort/jortapi.csv')\n",
        "\n",
        "csvreader = csv.reader(file)\n",
        "#header = next(csvreader)\n",
        "#print(header)\n",
        "rows = []\n",
        "for row in csvreader:\n",
        "    rows.append(row)\n",
        "#print(rows)\n",
        "file.close()"
      ],
      "metadata": {
        "id": "4Qg7Ka0_2cwU"
      },
      "execution_count": 8,
      "outputs": []
    },
    {
      "cell_type": "code",
      "source": [
        "df = pd.DataFrame(rows)"
      ],
      "metadata": {
        "id": "X0X0-NU_5Dzs"
      },
      "execution_count": 15,
      "outputs": []
    },
    {
      "cell_type": "code",
      "source": [
        "df.head(100)"
      ],
      "metadata": {
        "id": "ItJb0IHQ4aNJ"
      },
      "execution_count": null,
      "outputs": []
    },
    {
      "cell_type": "code",
      "source": [
        "update_df = df.drop([df.index[0], df.index[1] , df.index[2]]) #\n",
        "update_df = update_df.drop(df.columns[[0, 1, 2, 3, 4, 5, 6, 8, 10,11,12,13,14,15,16,17,18]], axis=1)"
      ],
      "metadata": {
        "id": "Tyf979-E5v4y"
      },
      "execution_count": 110,
      "outputs": []
    },
    {
      "cell_type": "code",
      "source": [
        "update_df = update_df.dropna()\n",
        "update_df = update_df[(update_df[9] == \"Fr\")]\n",
        "update_df"
      ],
      "metadata": {
        "colab": {
          "base_uri": "https://localhost:8080/",
          "height": 424
        },
        "id": "rqf_9aa14eo5",
        "outputId": "e3ae4f4e-bd38-4b3a-ad27-38488c3a9aa4"
      },
      "execution_count": 111,
      "outputs": [
        {
          "output_type": "execute_result",
          "data": {
            "text/html": [
              "\n",
              "  <div id=\"df-5488eaae-b7c9-488b-92fd-7faaa497bb01\">\n",
              "    <div class=\"colab-df-container\">\n",
              "      <div>\n",
              "<style scoped>\n",
              "    .dataframe tbody tr th:only-of-type {\n",
              "        vertical-align: middle;\n",
              "    }\n",
              "\n",
              "    .dataframe tbody tr th {\n",
              "        vertical-align: top;\n",
              "    }\n",
              "\n",
              "    .dataframe thead th {\n",
              "        text-align: right;\n",
              "    }\n",
              "</style>\n",
              "<table border=\"1\" class=\"dataframe\">\n",
              "  <thead>\n",
              "    <tr style=\"text-align: right;\">\n",
              "      <th></th>\n",
              "      <th>7</th>\n",
              "      <th>9</th>\n",
              "    </tr>\n",
              "  </thead>\n",
              "  <tbody>\n",
              "    <tr>\n",
              "      <th>3</th>\n",
              "      <td>N° 1 ACTES JUDICIAIRES VENTES AUX ENCHERES PU...</td>\n",
              "      <td>Fr</td>\n",
              "    </tr>\n",
              "    <tr>\n",
              "      <th>4</th>\n",
              "      <td>Vente aux enchères publiques sur saisie immob...</td>\n",
              "      <td>Fr</td>\n",
              "    </tr>\n",
              "    <tr>\n",
              "      <th>5</th>\n",
              "      <td>Vente aux enchères publiques sur saisie immob...</td>\n",
              "      <td>Fr</td>\n",
              "    </tr>\n",
              "    <tr>\n",
              "      <th>6</th>\n",
              "      <td>Vente aux enchères publiques d'un immeuble im...</td>\n",
              "      <td>Fr</td>\n",
              "    </tr>\n",
              "    <tr>\n",
              "      <th>7</th>\n",
              "      <td>Vente aux enchères publiques Maître Mohamed F...</td>\n",
              "      <td>Fr</td>\n",
              "    </tr>\n",
              "    <tr>\n",
              "      <th>...</th>\n",
              "      <td>...</td>\n",
              "      <td>...</td>\n",
              "    </tr>\n",
              "    <tr>\n",
              "      <th>503047</th>\n",
              "      <td>Avis Monsieur Hatem Baccar déclare par la pré...</td>\n",
              "      <td>Fr</td>\n",
              "    </tr>\n",
              "    <tr>\n",
              "      <th>503048</th>\n",
              "      <td>Avis Monsieur Walid Baklouti déclare par la p...</td>\n",
              "      <td>Fr</td>\n",
              "    </tr>\n",
              "    <tr>\n",
              "      <th>503049</th>\n",
              "      <td>Avis Les héritiers de Ahmed Hdiji annonce qu'...</td>\n",
              "      <td>Fr</td>\n",
              "    </tr>\n",
              "    <tr>\n",
              "      <th>503050</th>\n",
              "      <td>Rectificatifs Rectificatif Rectificatif de l'...</td>\n",
              "      <td>Fr</td>\n",
              "    </tr>\n",
              "    <tr>\n",
              "      <th>503051</th>\n",
              "      <td>N° 116 BILANS ET COMPTES FINANCIERS N° 116</td>\n",
              "      <td>Fr</td>\n",
              "    </tr>\n",
              "  </tbody>\n",
              "</table>\n",
              "<p>501918 rows × 2 columns</p>\n",
              "</div>\n",
              "      <button class=\"colab-df-convert\" onclick=\"convertToInteractive('df-5488eaae-b7c9-488b-92fd-7faaa497bb01')\"\n",
              "              title=\"Convert this dataframe to an interactive table.\"\n",
              "              style=\"display:none;\">\n",
              "        \n",
              "  <svg xmlns=\"http://www.w3.org/2000/svg\" height=\"24px\"viewBox=\"0 0 24 24\"\n",
              "       width=\"24px\">\n",
              "    <path d=\"M0 0h24v24H0V0z\" fill=\"none\"/>\n",
              "    <path d=\"M18.56 5.44l.94 2.06.94-2.06 2.06-.94-2.06-.94-.94-2.06-.94 2.06-2.06.94zm-11 1L8.5 8.5l.94-2.06 2.06-.94-2.06-.94L8.5 2.5l-.94 2.06-2.06.94zm10 10l.94 2.06.94-2.06 2.06-.94-2.06-.94-.94-2.06-.94 2.06-2.06.94z\"/><path d=\"M17.41 7.96l-1.37-1.37c-.4-.4-.92-.59-1.43-.59-.52 0-1.04.2-1.43.59L10.3 9.45l-7.72 7.72c-.78.78-.78 2.05 0 2.83L4 21.41c.39.39.9.59 1.41.59.51 0 1.02-.2 1.41-.59l7.78-7.78 2.81-2.81c.8-.78.8-2.07 0-2.86zM5.41 20L4 18.59l7.72-7.72 1.47 1.35L5.41 20z\"/>\n",
              "  </svg>\n",
              "      </button>\n",
              "      \n",
              "  <style>\n",
              "    .colab-df-container {\n",
              "      display:flex;\n",
              "      flex-wrap:wrap;\n",
              "      gap: 12px;\n",
              "    }\n",
              "\n",
              "    .colab-df-convert {\n",
              "      background-color: #E8F0FE;\n",
              "      border: none;\n",
              "      border-radius: 50%;\n",
              "      cursor: pointer;\n",
              "      display: none;\n",
              "      fill: #1967D2;\n",
              "      height: 32px;\n",
              "      padding: 0 0 0 0;\n",
              "      width: 32px;\n",
              "    }\n",
              "\n",
              "    .colab-df-convert:hover {\n",
              "      background-color: #E2EBFA;\n",
              "      box-shadow: 0px 1px 2px rgba(60, 64, 67, 0.3), 0px 1px 3px 1px rgba(60, 64, 67, 0.15);\n",
              "      fill: #174EA6;\n",
              "    }\n",
              "\n",
              "    [theme=dark] .colab-df-convert {\n",
              "      background-color: #3B4455;\n",
              "      fill: #D2E3FC;\n",
              "    }\n",
              "\n",
              "    [theme=dark] .colab-df-convert:hover {\n",
              "      background-color: #434B5C;\n",
              "      box-shadow: 0px 1px 3px 1px rgba(0, 0, 0, 0.15);\n",
              "      filter: drop-shadow(0px 1px 2px rgba(0, 0, 0, 0.3));\n",
              "      fill: #FFFFFF;\n",
              "    }\n",
              "  </style>\n",
              "\n",
              "      <script>\n",
              "        const buttonEl =\n",
              "          document.querySelector('#df-5488eaae-b7c9-488b-92fd-7faaa497bb01 button.colab-df-convert');\n",
              "        buttonEl.style.display =\n",
              "          google.colab.kernel.accessAllowed ? 'block' : 'none';\n",
              "\n",
              "        async function convertToInteractive(key) {\n",
              "          const element = document.querySelector('#df-5488eaae-b7c9-488b-92fd-7faaa497bb01');\n",
              "          const dataTable =\n",
              "            await google.colab.kernel.invokeFunction('convertToInteractive',\n",
              "                                                     [key], {});\n",
              "          if (!dataTable) return;\n",
              "\n",
              "          const docLinkHtml = 'Like what you see? Visit the ' +\n",
              "            '<a target=\"_blank\" href=https://colab.research.google.com/notebooks/data_table.ipynb>data table notebook</a>'\n",
              "            + ' to learn more about interactive tables.';\n",
              "          element.innerHTML = '';\n",
              "          dataTable['output_type'] = 'display_data';\n",
              "          await google.colab.output.renderOutput(dataTable, element);\n",
              "          const docLink = document.createElement('div');\n",
              "          docLink.innerHTML = docLinkHtml;\n",
              "          element.appendChild(docLink);\n",
              "        }\n",
              "      </script>\n",
              "    </div>\n",
              "  </div>\n",
              "  "
            ],
            "text/plain": [
              "                                                        7   9\n",
              "3        N° 1 ACTES JUDICIAIRES VENTES AUX ENCHERES PU...  Fr\n",
              "4        Vente aux enchères publiques sur saisie immob...  Fr\n",
              "5        Vente aux enchères publiques sur saisie immob...  Fr\n",
              "6        Vente aux enchères publiques d'un immeuble im...  Fr\n",
              "7        Vente aux enchères publiques Maître Mohamed F...  Fr\n",
              "...                                                   ...  ..\n",
              "503047   Avis Monsieur Hatem Baccar déclare par la pré...  Fr\n",
              "503048   Avis Monsieur Walid Baklouti déclare par la p...  Fr\n",
              "503049   Avis Les héritiers de Ahmed Hdiji annonce qu'...  Fr\n",
              "503050   Rectificatifs Rectificatif Rectificatif de l'...  Fr\n",
              "503051        N° 116 BILANS ET COMPTES FINANCIERS N° 116   Fr\n",
              "\n",
              "[501918 rows x 2 columns]"
            ]
          },
          "metadata": {},
          "execution_count": 111
        }
      ]
    },
    {
      "cell_type": "code",
      "source": [
        ""
      ],
      "metadata": {
        "id": "rI2WlDpgeTpX"
      },
      "execution_count": null,
      "outputs": []
    },
    {
      "cell_type": "code",
      "source": [
        ""
      ],
      "metadata": {
        "id": "-Kv2tG4_eTmw"
      },
      "execution_count": null,
      "outputs": []
    },
    {
      "cell_type": "markdown",
      "metadata": {
        "id": "0p376utKxsDe"
      },
      "source": [
        "#start"
      ]
    },
    {
      "cell_type": "code",
      "metadata": {
        "id": "x9Jx-IgUjNAz"
      },
      "source": [
        "def clean_txt(text):\n",
        "  txt = re.sub(\"\\W+\", ' ', str(text)) #\\W+ \n",
        "  txt = re.sub(\"[?|$|.|!]\", '', str(txt))\n",
        "  txt = re.sub(\"صفحـة\", '', str(txt))\n",
        "  txt = re.sub(\"عدد\", '', str(txt))\n",
        "  txt = re.sub(\"إعلانات قانونية وشرعية وعدلية\", '', str(txt))\n",
        "  txt = re.sub(\"الرائد الرسمي للجمهورية التونسية\", '', str(txt))\n",
        "  txt = re.sub(\"–\", '', str(txt))\n",
        "  txt = re.sub(\"تعريف الإمضاء : رئيس البلدية\", '', str(txt))\n",
        "  txt = re.sub(\"تعريف الإمضاء رئيس البلدية\", '', str(txt))\n",
        "  txt = re.sub(\"نسخة مطابقة : الرئيس المدير العام للمطبعة الرسمية للجمهورية التونسية\", '', str(txt))\n",
        "  txt = re.sub(\"نسخة مطابقة الرئيس المدير العام للمطبعة الرسمية للجمهورية التونسية\", '', str(txt))\n",
        "  txt = re.sub(\"ر د م د\", '', str(txt))\n",
        "\n",
        "  return txt"
      ],
      "execution_count": null,
      "outputs": []
    },
    {
      "cell_type": "code",
      "metadata": {
        "id": "4kyYxip00lwR"
      },
      "source": [
        "txts = '/content/drive/MyDrive/press/99.txt'\n",
        "with open(txts, 'r+') as f:\n",
        "    lines = f.read() #readlines  .rstrip('\\n')"
      ],
      "execution_count": null,
      "outputs": []
    },
    {
      "cell_type": "code",
      "metadata": {
        "colab": {
          "base_uri": "https://localhost:8080/"
        },
        "id": "I7YS9D_GqRyb",
        "outputId": "caf15e45-a2ea-4e68-af5b-e5b13196b750"
      },
      "source": [
        "\n",
        "\n",
        "##############\n",
        "\n",
        "regex = \"/202[A-Z,0-9]{10}|202[A-Z,0-9]{11}|202[A-Z,0-9]{12}|202[A-Z,0-9]{13}|202[A-Z,0-9]{14}/\"\n",
        "\n",
        "xtxt = re.split(regex, str(lines))\n",
        "\n",
        "i = 0\n",
        "w1 = 0\n",
        "w2 = 0\n",
        "w3 = 0\n",
        "w4 = 0\n",
        "\n",
        "lis_commercial = []\n",
        "lis_auction = []\n",
        "lis_societe = []\n",
        "lis_annonce = []\n",
        "\n",
        "words1 = ['أصول تجارية','أصل تجاري']\n",
        "\n",
        "words2 = ['بتة','المزاد العلني','بالمزاد العلني','علان تبتيت','عقلة عقارية','رهن الإختياري','المعقول عنه','المعقول ضده']\n",
        "\n",
        "words3 = ['التصرف في شركات','إعلان للدائنين','رأس المال','شركة خفية الإسم','مصادقة على تقارير','أشركات خرى','رأس مال شركة'\n",
        "          ,'رأس مالها','حل الشركة','استدعاء للجلسة العامة العادية','ستدعاء للجلسة العامة الخارقة'\n",
        "          ,'فتح إجراءات التسوية القضائية','دائن','إعلان توزيع ','ختم أعمال الفلسة','علان توزيع أموال','إعلان للمساهمين','تعيين مجلس إدارة','طلب عروض','فلسة']\n",
        "\n",
        "words4 = ['جمعيات','جمعية','أحزاب','نقابات','نقابة','اتحاد','حزب','تكوين ودادية','انتخاب أعضاء'\n",
        "          ,'تكوين جمعية','انتخاب مكتب جديد','ضياع سند','إعــلانات للعمــوم','أضاعا','أضاع'\n",
        "          ,'اعلام للعموم','ضياع','إصلاح خطأ','تكوين نقابة ','تغيير إسم جمعية ','إستخراج رسم','حكم تقديم','يعلن ورثة المرحوم','يعلن ورثة المرحومة','رسم تملك مورثهم']\n",
        "\n",
        "mat_re1 = []\n",
        "mat_re2 = []\n",
        "\n",
        "for x in xtxt :\n",
        "  x = clean_txt(x)\n",
        "  #print('section : ', i)\n",
        "  #print(x)\n",
        "  i+=1\n",
        "\n",
        "  for w in words1:\n",
        "    if (w in x) :\n",
        "      lis_commercial.append(x)\n",
        "      w1+=1\n",
        "      break\n",
        "      \n",
        "  for w in words2:\n",
        "    if (w in x) :\n",
        "      lis_auction.append(x)\n",
        "      w2+=1\n",
        "      break\n",
        "  \n",
        "  for w in words3:\n",
        "    words = words1 + words2 + words4\n",
        "    #matching = [s for s in words if s in lis_societe]\n",
        "    for wo in words:\n",
        "      if w in x and wo not in x:\n",
        "        lis_societe.append(x)\n",
        "        w3+=1\n",
        "\n",
        "  for w in words4:\n",
        "    words = words1 + words2 + words3\n",
        "    for wo in words:\n",
        "      if w in x and wo not in x :\n",
        "        lis_annonce.append(x)\n",
        "        w4+=1\n",
        "\n",
        "lis_societe = list(dict.fromkeys(lis_societe))\n",
        "lis_annonce = list(dict.fromkeys(lis_annonce))\n",
        "\n",
        "word_3 = words1 + words2 + words4\n",
        "matching3 = [s for s in word_3 if s in lis_societe]\n",
        "print(matching3)\n",
        "word_4 = words1 + words2 + words3\n",
        "matching4 = [s for s in word_4 if s in lis_annonce]\n",
        "print(matching4)\n",
        "\n",
        "print('i : ',i)\n",
        "print('commercial : ',w1,len(lis_commercial)) \n",
        "print('auction : ',w2,len(lis_auction))\n",
        "print('societe : ',w3,len(lis_societe))\n",
        "print('annonce : ',w4,len(lis_annonce)) "
      ],
      "execution_count": null,
      "outputs": [
        {
          "output_type": "stream",
          "name": "stdout",
          "text": [
            "[]\n",
            "[]\n",
            "i :  92\n",
            "commercial :  31 31\n",
            "auction :  9 9\n",
            "societe :  2532 42\n",
            "annonce :  658 12\n"
          ]
        }
      ]
    },
    {
      "cell_type": "code",
      "metadata": {
        "id": "rZJ2vIYUtNaB",
        "colab": {
          "base_uri": "https://localhost:8080/"
        },
        "outputId": "5e4acee4-abe8-4cfc-f000-a59e95165dbf"
      },
      "source": [
        "matching = [s for s in lis_commercial if s in lis_societe]\n",
        "print(matching)"
      ],
      "execution_count": null,
      "outputs": [
        {
          "output_type": "stream",
          "name": "stdout",
          "text": [
            "['3 _________________________ استدعاء للجلسة العامة العادية الشركة التونسية لصناعة الموس والحشايا ومشتقاته الحديثة ش خ إ رأس مالها 000 148 16 دينار طريق قابس كلم 3 صفاقس م و 0620656M إن السادة المساهمين في رأس مال الشركة التونسية لصناعة الموس والحشايا ومشتقاته الحديثة مدعوون لحضور الجلسة العامة العادية المزمع عقدها يوم الجمعة 26 نوفمبر 2021 على الساعة التاسعة صباحا بالمقر الاجتماعي للشركة قصد التداول في جدول الأعمال التالي ـ تلاوة تقرير التصرف لسنة 2020 ـ تلاوة تقريري مراقب الحسابات لسنة 2020  2420 الرائد الرسمي للجمهورية التونسية  29 أكتوبر 2021 عــدد 99 ـ المصادقة على حسابات السنة المالية 2020 ـ تخصيص النتيجة النهائية للسنة المالية 2020 ـ إعطاء الإبراء التام للوكالة إزاء أعمال تصرف سنة 2020 ـ المصادقة على الاتفاقيات المبرمة طبقا لمقتضيات الفصل 115 من مجلة الشركات التجارية ـ إصلاح خطأ مادي ـ مسائل مختلفة ']\n"
          ]
        }
      ]
    },
    {
      "cell_type": "code",
      "metadata": {
        "id": "EtshMtFTa4ik"
      },
      "source": [
        ""
      ],
      "execution_count": null,
      "outputs": []
    },
    {
      "cell_type": "markdown",
      "metadata": {
        "id": "IlCp723cx-Qg"
      },
      "source": [
        "#fun"
      ]
    },
    {
      "cell_type": "code",
      "metadata": {
        "id": "kgd0HxB_zSNZ",
        "colab": {
          "base_uri": "https://localhost:8080/"
        },
        "outputId": "e8b18499-d8fd-4691-924a-b01944b0bdbb"
      },
      "source": [
        "def clean_txt(text):\n",
        "  txt = re.sub(\"\\W+\", ' ', str(text)) #\\W+ \n",
        "  txt = re.sub(\"[?|$|.|!]\", '', str(txt))\n",
        "  txt = re.sub(\"صفحـة\", '', str(txt))\n",
        "  txt = re.sub(\"عدد\", '', str(txt))\n",
        "  txt = re.sub(\"إعلانات قانونية وشرعية وعدلية\", '', str(txt))\n",
        "  txt = re.sub(\"الرائد الرسمي للجمهورية التونسية\", '', str(txt))\n",
        "  txt = re.sub(\"–\", '', str(txt))\n",
        "  txt = re.sub(\"تعريف الإمضاء : رئيس البلدية\", '', str(txt))\n",
        "  txt = re.sub(\"تعريف الإمضاء رئيس البلدية\", '', str(txt))\n",
        "  txt = re.sub(\"نسخة مطابقة : الرئيس المدير العام للمطبعة الرسمية للجمهورية التونسية\", '', str(txt))\n",
        "  txt = re.sub(\"نسخة مطابقة الرئيس المدير العام للمطبعة الرسمية للجمهورية التونسية\", '', str(txt))\n",
        "  txt = re.sub(\"ر د م د\", '', str(txt))\n",
        "  txt = re.sub(\"[0-9]\", '', str(txt))\n",
        "\n",
        "  return txt\n",
        "\n",
        "def count(path):\n",
        "  i = 0\n",
        "  w1 = 0\n",
        "  w2 = 0\n",
        "  w3 = 0\n",
        "  w4 = 0\n",
        "\n",
        "  lis_commercial = []\n",
        "  lis_auction = []\n",
        "  lis_societe = []\n",
        "  lis_annonce = []\n",
        "\n",
        "  words1 = ['أصول تجارية','أصل تجاري']\n",
        "  words2 = ['بتة','المزاد العلني','بالمزاد العلني','علان تبتيت','عقلة عقارية','رهن الإختياري','المعقول عنه','المعقول ضده']\n",
        "  words3 = ['التصرف في شركات','إعلان للدائنين','رأس المال','شركة خفية الإسم','مصادقة على تقارير','أشركات خرى','رأس مال شركة'\n",
        "                  ,'رأس مالها','حل الشركة','استدعاء للجلسة العامة العادية','ستدعاء للجلسة العامة الخارقة'\n",
        "                  ,'فتح إجراءات التسوية القضائية','دائن','إعلان توزيع ','ختم أعمال الفلسة','علان توزيع أموال','إعلان للمساهمين','تعيين مجلس إدارة','طلب عروض','فلسة']\n",
        "  words4 = ['جمعيات','جمعية','أحزاب','نقابات','نقابة','اتحاد','حزب','تكوين ودادية','انتخاب أعضاء'\n",
        "                  ,'تكوين جمعية','انتخاب مكتب جديد','ضياع سند','إعــلانات للعمــوم','أضاعا','أضاع'\n",
        "                  ,'اعلام للعموم','ضياع','إصلاح خطأ','تكوين نقابة ','تغيير إسم جمعية ','إستخراج رسم','حكم تقديم','يعلن ورثة المرحوم','يعلن ورثة المرحومة','رسم تملك مورثهم']\n",
        "\n",
        "  mat_w3 = []\n",
        "  mat_re2 = []\n",
        "\n",
        "  for fname in os.listdir(path):\n",
        "        fpath = os.path.join(path, fname)\n",
        "\n",
        "        with open(fpath, 'r+') as f:\n",
        "            lines = f.read() #readlines  .rstrip('\\n')   \n",
        "        regex = \"/201[A-Z,0-9]{9}|201[A-Z,0-9]{10}|201[A-Z,0-9]{11}|201[A-Z,0-9]{12}|201[A-Z,0-9]{13}|201[A-Z,0-9]{14}|201[A-Z,0-9]{15}|202[A-Z,0-9]{09}|202[A-Z,0-9]{10}|202[A-Z,0-9]{11}|202[A-Z,0-9]{12}|202[A-Z,0-9]{13}|202[A-Z,0-9]{14}|202[A-Z,0-9]{15}/\"\n",
        "        xtxt = re.split(regex, str(lines))\n",
        "\n",
        "        for x in xtxt :\n",
        "          x = clean_txt(x)\n",
        "          i+=1\n",
        "          for w in words1:\n",
        "            words = words3 + words2 + words4\n",
        "            #matching = [s for s in words if s in lis_societe]\n",
        "            for wo in words:\n",
        "              if w in x and wo not in x:\n",
        "                lis_commercial.append(x)\n",
        "                w1+=1\n",
        "          for w in words2:\n",
        "            words = words1 + words3 + words4\n",
        "            #matching = [s for s in words if s in lis_societe]\n",
        "            for wo in words:\n",
        "              if w in x and wo not in x:\n",
        "                lis_auction.append(x)\n",
        "                w2+=1\n",
        "\n",
        "          for w in words3:\n",
        "            words = words1 + words2 + words4\n",
        "            for wo in words:\n",
        "              if w in x and wo not in x :\n",
        "                lis_societe.append(x)\n",
        "                w3+=1\n",
        "\n",
        "          for w in words4:\n",
        "            words = words1 + words2 + words3\n",
        "            for wo in words:\n",
        "              if w in x and wo not in x :\n",
        "                lis_annonce.append(x)\n",
        "                w4+=1\n",
        "\n",
        "  lis_commercial = list(dict.fromkeys(lis_commercial))\n",
        "  lis_auction = list(dict.fromkeys(lis_auction))\n",
        "  lis_societe = list(dict.fromkeys(lis_societe))\n",
        "  lis_annonce = list(dict.fromkeys(lis_annonce))\n",
        "\n",
        "  print('i : ',i)\n",
        "  print('commercial : ',w1,len(lis_commercial)) \n",
        "  print('auction : ',w2,len(lis_auction))\n",
        "  print('societe : ',w3,len(lis_societe))\n",
        "  print('annonce : ',w4,len(lis_annonce))  \n",
        "  \n",
        "  return lis_commercial, lis_auction, lis_societe, lis_annonce\n",
        "\n",
        "lien = '/content/drive/MyDrive/press/jort_txt/'\n",
        "l1,l2,l3,l4 = count(lien)"
      ],
      "execution_count": null,
      "outputs": [
        {
          "output_type": "stream",
          "name": "stdout",
          "text": [
            "i :  10748\n",
            "commercial :  171727 2879\n",
            "auction :  184983 1065\n",
            "societe :  294737 4241\n",
            "annonce :  89796 1670\n"
          ]
        }
      ]
    },
    {
      "cell_type": "code",
      "metadata": {
        "colab": {
          "base_uri": "https://localhost:8080/"
        },
        "id": "m_TxR_hSOSBs",
        "outputId": "73e8195d-0e61-4c15-8a13-cedb033f0e5a"
      },
      "source": [
        "l1 = list(set(l1) - set(l2+l4))\n",
        "len(l1)"
      ],
      "execution_count": null,
      "outputs": [
        {
          "output_type": "execute_result",
          "data": {
            "text/plain": [
              "2843"
            ]
          },
          "metadata": {},
          "execution_count": 75
        }
      ]
    },
    {
      "cell_type": "code",
      "metadata": {
        "colab": {
          "base_uri": "https://localhost:8080/"
        },
        "id": "E3vQete5F3zW",
        "outputId": "09b78ab2-90b5-40cd-a511-06683ef83f64"
      },
      "source": [
        "l3 = list(set(l3) - set(l1+l2+l4))\n",
        "len(l3)\n"
      ],
      "execution_count": null,
      "outputs": [
        {
          "output_type": "execute_result",
          "data": {
            "text/plain": [
              "3079"
            ]
          },
          "metadata": {},
          "execution_count": 76
        }
      ]
    },
    {
      "cell_type": "code",
      "metadata": {
        "colab": {
          "base_uri": "https://localhost:8080/"
        },
        "id": "odWENRhFF75c",
        "outputId": "62e63788-8ac1-4c2c-863c-86d656d951b8"
      },
      "source": [
        "l4 = list(set(l4) - set(l3+l2+l1))\n",
        "len(l4)"
      ],
      "execution_count": null,
      "outputs": [
        {
          "output_type": "execute_result",
          "data": {
            "text/plain": [
              "1627"
            ]
          },
          "metadata": {},
          "execution_count": 77
        }
      ]
    },
    {
      "cell_type": "markdown",
      "metadata": {
        "id": "ZW_xCiUff6pU"
      },
      "source": [
        "create 4 dataframe + 4 csv files"
      ]
    },
    {
      "cell_type": "code",
      "metadata": {
        "id": "lbrkHAJqf5-E"
      },
      "source": [
        "# Initialize data to lists.\n",
        "data = l1\n",
        "\n",
        "# Creates DataFrame.\n",
        "df1 = pd.DataFrame(data, columns=['أصل تجاري'])\n",
        "  \n",
        "# Print the data\n",
        "df1"
      ],
      "execution_count": null,
      "outputs": []
    },
    {
      "cell_type": "code",
      "metadata": {
        "id": "8uvUj1cGgFCC"
      },
      "source": [
        "data = l2\n",
        "\n",
        "# Creates DataFrame.\n",
        "df2 = pd.DataFrame(data, columns=['بيع بالمزاد العلني'])\n",
        "  \n",
        "# Print the data\n",
        "df2"
      ],
      "execution_count": null,
      "outputs": []
    },
    {
      "cell_type": "code",
      "metadata": {
        "id": "izopaaglgEik"
      },
      "source": [
        "data = l3\n",
        "\n",
        "# Creates DataFrame.\n",
        "df3 = pd.DataFrame(data, columns=['الشركة طلب العروض'])\n",
        "  \n",
        "# Print the data\n",
        "df3"
      ],
      "execution_count": null,
      "outputs": []
    },
    {
      "cell_type": "code",
      "metadata": {
        "id": "FWjhrQV3gKEe"
      },
      "source": [
        "data = l4\n",
        "\n",
        "# Creates DataFrame.\n",
        "df4 = pd.DataFrame(data, columns=['إعلان'])\n",
        "  \n",
        "# Print the data\n",
        "df4"
      ],
      "execution_count": null,
      "outputs": []
    },
    {
      "cell_type": "code",
      "metadata": {
        "id": "sqrd9cPsA2XH"
      },
      "source": [
        "from sklearn.utils import shuffle\n",
        "\n",
        "df1 = shuffle(df1)\n",
        "df2 = shuffle(df2)\n",
        "df3 = shuffle(df3)\n",
        "df4 = shuffle(df4)"
      ],
      "execution_count": null,
      "outputs": []
    },
    {
      "cell_type": "code",
      "metadata": {
        "id": "Cfxrzg6nf57c"
      },
      "source": [
        "df1.to_csv(r'/content/drive/MyDrive/press/dataset_asl.csv', index = False)"
      ],
      "execution_count": null,
      "outputs": []
    },
    {
      "cell_type": "code",
      "metadata": {
        "id": "s_pqOF40gE90"
      },
      "source": [
        "df2.to_csv(r'/content/drive/MyDrive/press/dataset_mazed.csv', index = False)"
      ],
      "execution_count": null,
      "outputs": []
    },
    {
      "cell_type": "code",
      "metadata": {
        "id": "R4N3Gi3_gKGA"
      },
      "source": [
        "df3.to_csv(r'/content/drive/MyDrive/press/dataset_appel.csv', index = False)"
      ],
      "execution_count": null,
      "outputs": []
    },
    {
      "cell_type": "code",
      "metadata": {
        "id": "zi4-k6xKgJsM"
      },
      "source": [
        "df4.to_csv(r'/content/drive/MyDrive/press/dataset_announce.csv', index = False)"
      ],
      "execution_count": null,
      "outputs": []
    },
    {
      "cell_type": "code",
      "metadata": {
        "id": "UUpWwMd4gEf0"
      },
      "source": [
        ""
      ],
      "execution_count": null,
      "outputs": []
    },
    {
      "cell_type": "code",
      "metadata": {
        "id": "ayKJcrRc0S6k"
      },
      "source": [
        "# Initialize data to lists.\n",
        "data = [l1,l2,l3,l4]\n",
        "\n",
        "# Creates DataFrame.\n",
        "df = pd.DataFrame(data, index=['أصل تجاري','بيع بالمزاد العلني','الشركة طلب العروض','إعلان'])\n",
        "  \n",
        "# Print the data\n",
        "df"
      ],
      "execution_count": null,
      "outputs": []
    },
    {
      "cell_type": "code",
      "metadata": {
        "id": "TAvyDJtpzR7e"
      },
      "source": [
        "df.to_csv(r'/content/drive/MyDrive/press/dataset.csv', index = False)"
      ],
      "execution_count": null,
      "outputs": []
    },
    {
      "cell_type": "code",
      "metadata": {
        "id": "6neOl--3MvZQ"
      },
      "source": [
        "\"\"\"\n",
        "أشركات خرى\n",
        "\n",
        "التصرف في شركات\n",
        "مصادقة على تقارير ........................................................................\n",
        "أصول تجارية\n",
        "بيع أصول تجارية ..........................................................................\n",
        "كراء أصول تجارية .........................................................................\n",
        "جمعيات وأحزاب ونقابات\n",
        "تكوين ....................................................................................\n",
        "مصادقة على تقارير ........................................................................\n",
        "إجراءات عدلية\n",
        "بيوعات بالمزاد العلني ......................................................................\n",
        "إعلان للدائنين .............................................................................\n",
        "استدعاءات\n",
        "شركات خفية الإسم وشركات ذات مسؤولية محدودة وشركات أخرى ............................\n",
        "مختلفات\n",
        "إعلانات للعموم ............................................................................\n",
        "موازنات وحسابات مالية\n",
        "موازنة سيكاف الإنماء.......................................................................\n",
        "موازنة سيكاف تثمير........................................................................\n",
        "إجراءات إدارية\n",
        "إعلانات للعموم ......................................................................................\n",
        "إعلانات للعموم وإصلاح خطأ.................................................................. \n",
        "\"\"\""
      ],
      "execution_count": null,
      "outputs": []
    }
  ]
}